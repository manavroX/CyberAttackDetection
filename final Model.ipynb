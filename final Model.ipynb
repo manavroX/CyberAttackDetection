{
 "cells": [
  {
   "cell_type": "code",
   "execution_count": 1,
   "metadata": {},
   "outputs": [],
   "source": [
    "import numpy as np\n",
    "import pandas as pd\n",
    "import csv"
   ]
  },
  {
   "cell_type": "code",
   "execution_count": 2,
   "metadata": {},
   "outputs": [],
   "source": [
    "from sklearn import metrics"
   ]
  },
  {
   "cell_type": "code",
   "execution_count": 3,
   "metadata": {},
   "outputs": [],
   "source": [
    "def makeModelAndPredict(rf_output, lr_output, gb_output, nn_output, svm_output):  \n",
    "\n",
    "    nn_final_output = nn_output > 0\n",
    "    \n",
    "    rf_final_output = (np.array(rf_output.sum(axis=1))>0).reshape(-1,1)\n",
    "    lr_final_output = (np.array(lr_output.sum(axis=1))>0).reshape(-1,1)\n",
    "    gb_final_output = (np.array(gb_output.sum(axis=1))>0).reshape(-1,1)\n",
    "    \n",
    "    svm_final_output = svm_output\n",
    "    \n",
    "    model_input = np.concatenate((rf_final_output,lr_final_output,gb_final_output,nn_final_output,svm_final_output), axis=1)\n",
    "    \n",
    "    model_output = (np.array(model_input.sum(axis=1))>2.5).reshape(-1,1)\n",
    "    \n",
    "    return model_output"
   ]
  },
  {
   "cell_type": "code",
   "execution_count": 4,
   "metadata": {},
   "outputs": [],
   "source": [
    "y_train = np.array(pd.read_csv('ytrain.csv')).reshape(-1,20)\n",
    "y_train = (np.array(y_train.sum(axis=1))>0).reshape(-1,1)\n",
    "y_test = np.array(pd.read_csv('ytest.csv')).reshape(-1,1)"
   ]
  },
  {
   "cell_type": "code",
   "execution_count": 5,
   "metadata": {},
   "outputs": [],
   "source": [
    "rf_output = 'output_rf.csv'\n",
    "lr_output = 'output_lr.csv'\n",
    "gb_output = 'output_gb.csv'\n",
    "nn_output = 'output_nn.csv'\n",
    "svm_output = 'output_svm.csv'\n",
    "\n",
    "rf_output = np.array(pd.read_csv(rf_output)).reshape(-1,20)\n",
    "lr_output = np.array(pd.read_csv(lr_output)).reshape(-1,20)\n",
    "gb_output = np.array(pd.read_csv(gb_output)).reshape(-1,20)\n",
    "nn_output = np.array(pd.read_csv(nn_output)).reshape(-1,1)\n",
    "svm_output = np.array(pd.read_csv(svm_output)).reshape(-1,1)\n",
    "\n",
    "y_pred_train = makeModelAndPredict(rf_output, lr_output, gb_output, nn_output, svm_output)"
   ]
  },
  {
   "cell_type": "code",
   "execution_count": 6,
   "metadata": {},
   "outputs": [
    {
     "name": "stdout",
     "output_type": "stream",
     "text": [
      "Train\n",
      "precision =  0.9973041124685134\n",
      "recall =  1.0\n",
      "fbeta_score =  0.9986502368294057\n"
     ]
    }
   ],
   "source": [
    "print(\"Train\")\n",
    "precision, recall, fbeta_score, support = metrics.precision_recall_fscore_support(y_train, y_pred_train, average='weighted', labels=np.unique(y_pred_train))\n",
    "print(\"precision = \", precision)\n",
    "print(\"recall = \", recall)\n",
    "print(\"fbeta_score = \", fbeta_score)"
   ]
  },
  {
   "cell_type": "code",
   "execution_count": 7,
   "metadata": {},
   "outputs": [],
   "source": [
    "rf_output = 'output_rf_test.csv'\n",
    "lr_output = 'output_lr_test.csv'\n",
    "gb_output = 'output_gb_test.csv'\n",
    "nn_output = 'output_nn_test.csv'\n",
    "svm_output = 'output_svm_test.csv'\n",
    "\n",
    "rf_output = np.array(pd.read_csv(rf_output)).reshape(-1,1)\n",
    "lr_output = np.array(pd.read_csv(lr_output)).reshape(-1,1)\n",
    "gb_output = np.array(pd.read_csv(gb_output)).reshape(-1,1)\n",
    "nn_output = np.array(pd.read_csv(nn_output)).reshape(-1,1)\n",
    "svm_output = np.array(pd.read_csv(svm_output)).reshape(-1,1)\n",
    "\n",
    "y_pred_test = makeModelAndPredict(rf_output, lr_output, gb_output, nn_output, svm_output)"
   ]
  },
  {
   "cell_type": "code",
   "execution_count": 8,
   "metadata": {},
   "outputs": [
    {
     "name": "stdout",
     "output_type": "stream",
     "text": [
      "Test\n",
      "precision =  0.9999945565048439\n",
      "recall =  0.9999945564752089\n",
      "fbeta_score =  0.9999944884385575\n"
     ]
    }
   ],
   "source": [
    "print(\"Test\")\n",
    "precision, recall, fbeta_score, support = metrics.precision_recall_fscore_support(y_test, y_pred_test, average='weighted', labels=np.unique(y_pred_test))\n",
    "print(\"precision = \", precision)\n",
    "print(\"recall = \", recall)\n",
    "print(\"fbeta_score = \", fbeta_score)"
   ]
  }
 ],
 "metadata": {
  "kernelspec": {
   "display_name": "Python 3",
   "language": "python",
   "name": "python3"
  },
  "language_info": {
   "codemirror_mode": {
    "name": "ipython",
    "version": 3
   },
   "file_extension": ".py",
   "mimetype": "text/x-python",
   "name": "python",
   "nbconvert_exporter": "python",
   "pygments_lexer": "ipython3",
   "version": "3.6.9"
  }
 },
 "nbformat": 4,
 "nbformat_minor": 4
}
