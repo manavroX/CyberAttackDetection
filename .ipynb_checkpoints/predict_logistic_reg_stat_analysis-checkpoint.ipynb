{
 "cells": [
  {
   "cell_type": "code",
   "execution_count": 1,
   "metadata": {},
   "outputs": [
    {
     "data": {
      "text/plain": [
       "'\\nPerform a statistic analysis of the Logistic regression classifier.\\n\\nParameters\\n----------\\ndata_window_botnetx.h5         : extracted data from preprocessing1.py\\ndata_window3_botnetx.h5        : extracted data from preprocessing2.py\\ndata_window_botnetx_labels.npy : label numpy array from preprocessing1.py\\nnb_prediction                  : number of predictions to perform\\n\\nReturn\\n----------\\nPrint train and test mean accuracy, precison, recall, f1\\n'"
      ]
     },
     "execution_count": 1,
     "metadata": {},
     "output_type": "execute_result"
    }
   ],
   "source": [
    "\"\"\"\n",
    "Perform a statistic analysis of the Logistic regression classifier.\n",
    "\n",
    "Parameters\n",
    "----------\n",
    "data_window_botnetx.h5         : extracted data from preprocessing1.py\n",
    "data_window3_botnetx.h5        : extracted data from preprocessing2.py\n",
    "data_window_botnetx_labels.npy : label numpy array from preprocessing1.py\n",
    "nb_prediction                  : number of predictions to perform\n",
    "\n",
    "Return\n",
    "----------\n",
    "Print train and test mean accuracy, precison, recall, f1\n",
    "\"\"\""
   ]
  },
  {
   "cell_type": "code",
   "execution_count": 2,
   "metadata": {},
   "outputs": [],
   "source": [
    "import numpy as np\n",
    "import pandas as pd\n",
    "from scipy.sparse import csc_matrix\n",
    "import matplotlib.pyplot as plt\n",
    "import matplotlib.dates as mdates\n",
    "import h5py"
   ]
  },
  {
   "cell_type": "code",
   "execution_count": 3,
   "metadata": {},
   "outputs": [],
   "source": [
    "from sklearn import model_selection, feature_selection, utils, ensemble, linear_model, metrics"
   ]
  },
  {
   "cell_type": "code",
   "execution_count": 4,
   "metadata": {},
   "outputs": [
    {
     "name": "stdout",
     "output_type": "stream",
     "text": [
      "Import data\n"
     ]
    }
   ],
   "source": [
    "print(\"Import data\")"
   ]
  },
  {
   "cell_type": "code",
   "execution_count": 5,
   "metadata": {},
   "outputs": [],
   "source": [
    "X = pd.read_hdf('data_window_botnet3.h5', key='data')\n",
    "X.reset_index(drop=True, inplace=True)"
   ]
  },
  {
   "cell_type": "code",
   "execution_count": 6,
   "metadata": {},
   "outputs": [],
   "source": [
    "X2 = pd.read_hdf('data_window3_botnet3.h5', key='data')\n",
    "X2.reset_index(drop=True, inplace=True)"
   ]
  },
  {
   "cell_type": "code",
   "execution_count": 7,
   "metadata": {},
   "outputs": [],
   "source": [
    "X = X.join(X2)"
   ]
  },
  {
   "cell_type": "code",
   "execution_count": 8,
   "metadata": {},
   "outputs": [],
   "source": [
    "X.drop('window_id', axis=1, inplace=True)"
   ]
  },
  {
   "cell_type": "code",
   "execution_count": 9,
   "metadata": {},
   "outputs": [],
   "source": [
    "y = X['Label_<lambda>']\n",
    "X.drop('Label_<lambda>', axis=1, inplace=True)"
   ]
  },
  {
   "cell_type": "code",
   "execution_count": 10,
   "metadata": {},
   "outputs": [],
   "source": [
    "labels = np.load(\"data_window_botnet3_labels.npy\", allow_pickle=True)"
   ]
  },
  {
   "cell_type": "code",
   "execution_count": 11,
   "metadata": {},
   "outputs": [
    {
     "name": "stdout",
     "output_type": "stream",
     "text": [
      "['counts' 'Sport_nunique' 'DstAddr_nunique' 'Dport_nunique' 'Dur_sum'\n",
      " 'Dur_mean' 'Dur_std' 'Dur_max' 'Dur_median' 'TotBytes_sum'\n",
      " 'TotBytes_mean' 'TotBytes_std' 'TotBytes_max' 'TotBytes_median'\n",
      " 'SrcBytes_sum' 'SrcBytes_mean' 'SrcBytes_std' 'SrcBytes_max'\n",
      " 'SrcBytes_median' 'Sport_RU' 'DstAddr_RU' 'Dport_RU']\n",
      "['flow=Background' 'flow=To-Backgro' 'flow=From-Backg' 'flow=From-Norma'\n",
      " 'flow=To-Normal-' 'flow=Normal-V42' 'flow=From-Botne']\n",
      "6\n"
     ]
    }
   ],
   "source": [
    "print(X.columns.values)\n",
    "print(labels)\n",
    "print(np.where(labels == 'flow=From-Botne')[0][0])"
   ]
  },
  {
   "cell_type": "code",
   "execution_count": 12,
   "metadata": {},
   "outputs": [
    {
     "name": "stdout",
     "output_type": "stream",
     "text": [
      "y (array([list([0]), list([1]), list([2]), list([3]), list([4]), list([6])],\n",
      "      dtype=object), array([2207092,   18047,     263,     984,      48,     286]))\n"
     ]
    }
   ],
   "source": [
    "y_bin6 = y==np.where(labels == 'flow=From-Botne')[0][0]\n",
    "print(\"y\", np.unique(y, return_counts=True))"
   ]
  },
  {
   "cell_type": "markdown",
   "metadata": {},
   "source": [
    "# Train"
   ]
  },
  {
   "cell_type": "code",
   "execution_count": 13,
   "metadata": {},
   "outputs": [
    {
     "name": "stdout",
     "output_type": "stream",
     "text": [
      "[545331265  64051946 930796018]\n"
     ]
    }
   ],
   "source": [
    "nb_prediction = 3\n",
    "np.random.seed(seed=123456)\n",
    "tab_seed = np.random.randint(0, 1000000000, nb_prediction)\n",
    "print(tab_seed)"
   ]
  },
  {
   "cell_type": "code",
   "execution_count": 14,
   "metadata": {},
   "outputs": [],
   "source": [
    "tab_train_precision = np.array([0.]*nb_prediction)\n",
    "tab_train_recall = np.array([0.]*nb_prediction)\n",
    "tab_train_fbeta_score = np.array([0.]*nb_prediction)"
   ]
  },
  {
   "cell_type": "code",
   "execution_count": 15,
   "metadata": {},
   "outputs": [],
   "source": [
    "tab_test_precision = np.array([0.]*nb_prediction)\n",
    "tab_test_recall = np.array([0.]*nb_prediction)\n",
    "tab_test_fbeta_score = np.array([0.]*nb_prediction)"
   ]
  },
  {
   "cell_type": "code",
   "execution_count": 16,
   "metadata": {},
   "outputs": [
    {
     "name": "stdout",
     "output_type": "stream",
     "text": [
      "0\n",
      "y_train (array([False,  True]), array([14917125,     1895]))\n",
      "y_test (array([False,  True]), array([734723,     95]))\n"
     ]
    },
    {
     "name": "stderr",
     "output_type": "stream",
     "text": [
      "/home/2019a7ps1343h/.local/lib/python3.6/site-packages/sklearn/linear_model/_logistic.py:765: ConvergenceWarning: lbfgs failed to converge (status=1):\n",
      "STOP: TOTAL NO. of ITERATIONS REACHED LIMIT.\n",
      "\n",
      "Increase the number of iterations (max_iter) or scale the data as shown in:\n",
      "    https://scikit-learn.org/stable/modules/preprocessing.html\n",
      "Please also refer to the documentation for alternative solver options:\n",
      "    https://scikit-learn.org/stable/modules/linear_model.html#logistic-regression\n",
      "  extra_warning_msg=_LOGISTIC_SOLVER_CONVERGENCE_MSG)\n"
     ]
    },
    {
     "name": "stdout",
     "output_type": "stream",
     "text": [
      "1\n",
      "y_train (array([False,  True]), array([14917233,     1787]))\n",
      "y_test (array([False,  True]), array([734716,    102]))\n"
     ]
    },
    {
     "name": "stderr",
     "output_type": "stream",
     "text": [
      "/home/2019a7ps1343h/.local/lib/python3.6/site-packages/sklearn/linear_model/_logistic.py:765: ConvergenceWarning: lbfgs failed to converge (status=1):\n",
      "STOP: TOTAL NO. of ITERATIONS REACHED LIMIT.\n",
      "\n",
      "Increase the number of iterations (max_iter) or scale the data as shown in:\n",
      "    https://scikit-learn.org/stable/modules/preprocessing.html\n",
      "Please also refer to the documentation for alternative solver options:\n",
      "    https://scikit-learn.org/stable/modules/linear_model.html#logistic-regression\n",
      "  extra_warning_msg=_LOGISTIC_SOLVER_CONVERGENCE_MSG)\n"
     ]
    },
    {
     "name": "stdout",
     "output_type": "stream",
     "text": [
      "2\n",
      "y_train (array([False,  True]), array([14917177,     1843]))\n",
      "y_test (array([False,  True]), array([734721,     97]))\n"
     ]
    },
    {
     "name": "stderr",
     "output_type": "stream",
     "text": [
      "/home/2019a7ps1343h/.local/lib/python3.6/site-packages/sklearn/linear_model/_logistic.py:765: ConvergenceWarning: lbfgs failed to converge (status=1):\n",
      "STOP: TOTAL NO. of ITERATIONS REACHED LIMIT.\n",
      "\n",
      "Increase the number of iterations (max_iter) or scale the data as shown in:\n",
      "    https://scikit-learn.org/stable/modules/preprocessing.html\n",
      "Please also refer to the documentation for alternative solver options:\n",
      "    https://scikit-learn.org/stable/modules/linear_model.html#logistic-regression\n",
      "  extra_warning_msg=_LOGISTIC_SOLVER_CONVERGENCE_MSG)\n"
     ]
    }
   ],
   "source": [
    "for i in range(0, nb_prediction):\n",
    "    X_train, X_test, y_train, y_test = model_selection.train_test_split(X, y_bin6, test_size=0.33, random_state=tab_seed[i])\n",
    "\n",
    "    X_train_new, y_train_new = utils.resample(X_train, y_train, n_samples=X_train.shape[0]*10, random_state=tab_seed[i])\n",
    "    \n",
    "    print(i)\n",
    "    print(\"y_train\", np.unique(y_train_new, return_counts=True))\n",
    "    print(\"y_test\", np.unique(y_test, return_counts=True))\n",
    "\n",
    "    clf = linear_model.LogisticRegression(penalty='l2', C=550, random_state=tab_seed[i], multi_class=\"auto\", class_weight={0:0.044, 1:1-0.044}, solver=\"lbfgs\", max_iter=1000, verbose=0)\n",
    "    clf.fit(X_train_new, y_train_new)\n",
    "\n",
    "    y_pred_train = clf.predict(X_train_new)\n",
    "    precision, recall, fbeta_score, support = metrics.precision_recall_fscore_support(y_train_new, y_pred_train)\n",
    "    tab_train_precision[i] = precision[1]\n",
    "    tab_train_recall[i] = recall[1]\n",
    "    tab_train_fbeta_score[i] = fbeta_score[1]\n",
    "\n",
    "    y_pred_test = clf.predict(X_test)\n",
    "    precision, recall, fbeta_score, support = metrics.precision_recall_fscore_support(y_test, y_pred_test)\n",
    "    tab_test_precision[i] = precision[1]\n",
    "    tab_test_recall[i] = recall[1]\n",
    "    tab_test_fbeta_score[i] = fbeta_score[1]"
   ]
  },
  {
   "cell_type": "code",
   "execution_count": 17,
   "metadata": {},
   "outputs": [
    {
     "name": "stdout",
     "output_type": "stream",
     "text": [
      "Train\n",
      "precision =  0.7569736494912401 0.02442442080426817 [0.76046901 0.7849861  0.72546584]\n",
      "recall =  0.9522975996348652 0.004389489522442692 [0.95831135 0.94795747 0.95062398]\n",
      "fbeta_score =  0.8432446378737596 0.015032343165338203 [0.84800374 0.85880862 0.82292156]\n"
     ]
    }
   ],
   "source": [
    "print(\"Train\")\n",
    "print(\"precision = \", tab_train_precision.mean(), tab_train_precision.std(), tab_train_precision)\n",
    "print(\"recall = \", tab_train_recall.mean(), tab_train_recall.std(), tab_train_recall)\n",
    "print(\"fbeta_score = \", tab_train_fbeta_score.mean(), tab_train_fbeta_score.std(), tab_train_fbeta_score)"
   ]
  },
  {
   "cell_type": "code",
   "execution_count": 18,
   "metadata": {},
   "outputs": [
    {
     "name": "stdout",
     "output_type": "stream",
     "text": [
      "Test\n",
      "precision =  0.761033681765389 0.04311496353497057 [0.72357724 0.82142857 0.73809524]\n",
      "recall =  0.9325219253916073 0.023389708157912154 [0.93684211 0.90196078 0.95876289]\n",
      "fbeta_score =  0.836802521022943 0.017781338461466088 [0.81651376 0.85981308 0.83408072]\n"
     ]
    }
   ],
   "source": [
    "print(\"Test\")\n",
    "print(\"precision = \", tab_test_precision.mean(), tab_test_precision.std(), tab_test_precision)\n",
    "print(\"recall = \", tab_test_recall.mean(), tab_test_recall.std(), tab_test_recall)\n",
    "print(\"fbeta_score = \", tab_test_fbeta_score.mean(), tab_test_fbeta_score.std(), tab_test_fbeta_score)"
   ]
  }
 ],
 "metadata": {
  "jupytext": {
   "cell_metadata_filter": "-all",
   "encoding": "# -*- coding: utf-8 -*-",
   "formats": "ipynb,py",
   "main_language": "python"
  },
  "kernelspec": {
   "display_name": "Python 3",
   "language": "python",
   "name": "python3"
  },
  "language_info": {
   "codemirror_mode": {
    "name": "ipython",
    "version": 3
   },
   "file_extension": ".py",
   "mimetype": "text/x-python",
   "name": "python",
   "nbconvert_exporter": "python",
   "pygments_lexer": "ipython3",
   "version": "3.8.10"
  }
 },
 "nbformat": 4,
 "nbformat_minor": 4
}
