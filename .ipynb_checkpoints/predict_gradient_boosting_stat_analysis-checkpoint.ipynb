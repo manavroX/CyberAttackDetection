{
 "cells": [
  {
   "cell_type": "code",
   "execution_count": 1,
   "metadata": {},
   "outputs": [],
   "source": [
    "\"\"\"\n",
    "Perform a statistic analysis of the Gradient Boosting classifier.\n",
    "\n",
    "Parameters\n",
    "----------\n",
    "data_window_botnetx.h5         : extracted data from preprocessing1.py\n",
    "data_window3_botnetx.h5        : extracted data from preprocessing2.py\n",
    "data_window_botnetx_labels.npy : label numpy array from preprocessing1.py\n",
    "nb_prediction                  : number of predictions to perform\n",
    "\n",
    "Return\n",
    "----------\n",
    "Print train and test mean accuracy, precison, recall, f1\n",
    "\"\"\""
   ]
  },
  {
   "cell_type": "code",
   "execution_count": 2,
   "metadata": {},
   "outputs": [],
   "source": [
    "import numpy as np\n",
    "import pandas as pd\n",
    "from scipy.sparse import csc_matrix\n",
    "import matplotlib.pyplot as plt\n",
    "import matplotlib.dates as mdates\n",
    "import h5py"
   ]
  },
  {
   "cell_type": "code",
   "execution_count": 3,
   "metadata": {},
   "outputs": [],
   "source": [
    "from sklearn import model_selection, feature_selection, utils, ensemble, linear_model, metrics"
   ]
  },
  {
   "cell_type": "code",
   "execution_count": 4,
   "metadata": {},
   "outputs": [
    {
     "name": "stdout",
     "output_type": "stream",
     "text": [
      "Import data\n"
     ]
    }
   ],
   "source": [
    "print(\"Import data\")"
   ]
  },
  {
   "cell_type": "code",
   "execution_count": 5,
   "metadata": {},
   "outputs": [],
   "source": [
    "X = pd.read_hdf('data_window_botnet3.h5', key='data')\n",
    "X.reset_index(drop=True, inplace=True)"
   ]
  },
  {
   "cell_type": "code",
   "execution_count": 6,
   "metadata": {},
   "outputs": [],
   "source": [
    "X2 = pd.read_hdf('data_window3_botnet3.h5', key='data')\n",
    "X2.reset_index(drop=True, inplace=True)"
   ]
  },
  {
   "cell_type": "code",
   "execution_count": 7,
   "metadata": {},
   "outputs": [],
   "source": [
    "X = X.join(X2)"
   ]
  },
  {
   "cell_type": "code",
   "execution_count": 8,
   "metadata": {},
   "outputs": [],
   "source": [
    "X.drop('window_id', axis=1, inplace=True)"
   ]
  },
  {
   "cell_type": "code",
   "execution_count": 9,
   "metadata": {},
   "outputs": [],
   "source": [
    "y = X['Label_<lambda>']\n",
    "X.drop('Label_<lambda>', axis=1, inplace=True)"
   ]
  },
  {
   "cell_type": "code",
   "execution_count": 10,
   "metadata": {},
   "outputs": [],
   "source": [
    "labels = np.load(\"data_window_botnet3_labels.npy\", allow_pickle=True)"
   ]
  },
  {
   "cell_type": "code",
   "execution_count": 11,
   "metadata": {},
   "outputs": [
    {
     "name": "stdout",
     "output_type": "stream",
     "text": [
      "['counts' 'Sport_nunique' 'DstAddr_nunique' 'Dport_nunique' 'Dur_sum'\n",
      " 'Dur_mean' 'Dur_std' 'Dur_max' 'Dur_median' 'TotBytes_sum'\n",
      " 'TotBytes_mean' 'TotBytes_std' 'TotBytes_max' 'TotBytes_median'\n",
      " 'SrcBytes_sum' 'SrcBytes_mean' 'SrcBytes_std' 'SrcBytes_max'\n",
      " 'SrcBytes_median' 'Sport_RU' 'DstAddr_RU' 'Dport_RU']\n",
      "['flow=Background' 'flow=To-Backgro' 'flow=From-Backg' 'flow=From-Norma'\n",
      " 'flow=To-Normal-' 'flow=Normal-V42' 'flow=From-Botne']\n",
      "6\n"
     ]
    }
   ],
   "source": [
    "print(X.columns.values)\n",
    "print(labels)\n",
    "print(np.where(labels == 'flow=From-Botne')[0][0])"
   ]
  },
  {
   "cell_type": "code",
   "execution_count": 12,
   "metadata": {},
   "outputs": [
    {
     "name": "stdout",
     "output_type": "stream",
     "text": [
      "y (array([list([0]), list([1]), list([2]), list([3]), list([4]), list([6])],\n",
      "      dtype=object), array([2207092,   18047,     263,     984,      48,     286]))\n"
     ]
    }
   ],
   "source": [
    "y_bin6 = y==np.where(labels == 'flow=From-Botne')[0][0]\n",
    "print(\"y\", np.unique(y, return_counts=True))"
   ]
  },
  {
   "cell_type": "markdown",
   "metadata": {},
   "source": [
    "# Train"
   ]
  },
  {
   "cell_type": "code",
   "execution_count": 13,
   "metadata": {},
   "outputs": [
    {
     "name": "stdout",
     "output_type": "stream",
     "text": [
      "[545331265  64051946 930796018]\n"
     ]
    }
   ],
   "source": [
    "nb_prediction = 3\n",
    "np.random.seed(seed=123456)\n",
    "tab_seed = np.random.randint(0, 1000000000, nb_prediction)\n",
    "print(tab_seed)"
   ]
  },
  {
   "cell_type": "code",
   "execution_count": 14,
   "metadata": {},
   "outputs": [],
   "source": [
    "tab_train_precision = np.array([0.]*nb_prediction)\n",
    "tab_train_recall = np.array([0.]*nb_prediction)\n",
    "tab_train_fbeta_score = np.array([0.]*nb_prediction)"
   ]
  },
  {
   "cell_type": "code",
   "execution_count": 15,
   "metadata": {},
   "outputs": [],
   "source": [
    "tab_test_precision = np.array([0.]*nb_prediction)\n",
    "tab_test_recall = np.array([0.]*nb_prediction)\n",
    "tab_test_fbeta_score = np.array([0.]*nb_prediction)"
   ]
  },
  {
   "cell_type": "code",
   "execution_count": 16,
   "metadata": {},
   "outputs": [
    {
     "name": "stdout",
     "output_type": "stream",
     "text": [
      "0\n",
      "y_train (array([False,  True]), array([14917125,     1895]))\n",
      "y_test (array([False,  True]), array([734723,     95]))\n",
      "1\n",
      "y_train (array([False,  True]), array([14917233,     1787]))\n",
      "y_test (array([False,  True]), array([734716,    102]))\n",
      "2\n",
      "y_train (array([False,  True]), array([14917177,     1843]))\n",
      "y_test (array([False,  True]), array([734721,     97]))\n"
     ]
    }
   ],
   "source": [
    "for i in range(0, nb_prediction):\n",
    "    X_train, X_test, y_train, y_test = model_selection.train_test_split(X, y_bin6, test_size=0.33, random_state=tab_seed[i])\n",
    "\n",
    "    X_train_new, y_train_new = utils.resample(X_train, y_train, n_samples=X_train.shape[0]*10, random_state=tab_seed[i])\n",
    "    \n",
    "    print(i)\n",
    "    print(\"y_train\", np.unique(y_train_new, return_counts=True))\n",
    "    print(\"y_test\", np.unique(y_test, return_counts=True))\n",
    "\n",
    "    clf = ensemble.GradientBoostingClassifier(loss='exponential', learning_rate=0.1, n_estimators=100, max_depth=4, random_state=tab_seed[i], verbose=0)\n",
    "    clf.fit(X_train_new, y_train_new)\n",
    "\n",
    "    y_pred_train = clf.predict(X_train_new)\n",
    "    precision, recall, fbeta_score, support = metrics.precision_recall_fscore_support(y_train_new, y_pred_train)\n",
    "    tab_train_precision[i] = precision[1]\n",
    "    tab_train_recall[i] = recall[1]\n",
    "    tab_train_fbeta_score[i] = fbeta_score[1]\n",
    "\n",
    "    y_pred_test = clf.predict(X_test)\n",
    "    precision, recall, fbeta_score, support = metrics.precision_recall_fscore_support(y_test, y_pred_test)\n",
    "    tab_test_precision[i] = precision[1]\n",
    "    tab_test_recall[i] = recall[1]\n",
    "    tab_test_fbeta_score[i] = fbeta_score[1]"
   ]
  },
  {
   "cell_type": "code",
   "execution_count": 17,
   "metadata": {},
   "outputs": [
    {
     "name": "stdout",
     "output_type": "stream",
     "text": [
      "Train\n",
      "precision =  1.0 0.0 [1. 1. 1.]\n",
      "recall =  0.9950593040029648 0.004114407522746615 [0.99525066 0.98992725 1.        ]\n",
      "fbeta_score =  0.9975192700224822 0.0020677179493842515 [0.99761968 0.99493813 1.        ]\n"
     ]
    }
   ],
   "source": [
    "print(\"Train\")\n",
    "print(\"precision = \", tab_train_precision.mean(), tab_train_precision.std(), tab_train_precision)\n",
    "print(\"recall = \", tab_train_recall.mean(), tab_train_recall.std(), tab_train_recall)\n",
    "print(\"fbeta_score = \", tab_train_fbeta_score.mean(), tab_train_fbeta_score.std(), tab_train_fbeta_score)"
   ]
  },
  {
   "cell_type": "code",
   "execution_count": 18,
   "metadata": {},
   "outputs": [
    {
     "name": "stdout",
     "output_type": "stream",
     "text": [
      "Test\n",
      "precision =  0.9963369963369964 0.005180269459242087 [0.98901099 1.         1.        ]\n",
      "recall =  0.9453292621081711 0.013528540114324264 [0.94736842 0.96078431 0.92783505]\n",
      "fbeta_score =  0.970102926801219 0.007310240945100731 [0.96774194 0.98       0.96256684]\n"
     ]
    }
   ],
   "source": [
    "print(\"Test\")\n",
    "print(\"precision = \", tab_test_precision.mean(), tab_test_precision.std(), tab_test_precision)\n",
    "print(\"recall = \", tab_test_recall.mean(), tab_test_recall.std(), tab_test_recall)\n",
    "print(\"fbeta_score = \", tab_test_fbeta_score.mean(), tab_test_fbeta_score.std(), tab_test_fbeta_score)"
   ]
  }
 ],
 "metadata": {
  "jupytext": {
   "cell_metadata_filter": "-all",
   "encoding": "# -*- coding: utf-8 -*-",
   "formats": "ipynb,py",
   "main_language": "python"
  },
  "kernelspec": {
   "display_name": "Python 3",
   "language": "python",
   "name": "python3"
  },
  "language_info": {
   "codemirror_mode": {
    "name": "ipython",
    "version": 3
   },
   "file_extension": ".py",
   "mimetype": "text/x-python",
   "name": "python",
   "nbconvert_exporter": "python",
   "pygments_lexer": "ipython3",
   "version": "3.8.10"
  }
 },
 "nbformat": 4,
 "nbformat_minor": 4
}
