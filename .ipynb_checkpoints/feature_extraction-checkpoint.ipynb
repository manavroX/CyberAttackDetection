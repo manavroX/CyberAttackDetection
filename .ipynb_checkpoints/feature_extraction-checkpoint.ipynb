{
 "cells": [
  {
   "cell_type": "code",
   "execution_count": 2,
   "metadata": {},
   "outputs": [
    {
     "data": {
      "text/plain": [
       "'\\nUse different embedded methods to extract relevant features :\\n- Lasso and Ridge Logistic Regression\\n- Support Vector Machine (SVM) method with Recursive Feature Elimination (RFE)\\n\\nParameters\\n----------\\ndata_window.h5         : extracted data from preprocessing1.py\\ndata_window3.h5        : extracted data from preprocessing2.py\\ndata_window_labels.npy : label numpy array from preprocessing1.py\\n\\nReturn\\n----------\\nPrint the results of the different methods (precision, recall, f1)\\nPlot the graphs of the different extractions\\n'"
      ]
     },
     "execution_count": 2,
     "metadata": {},
     "output_type": "execute_result"
    }
   ],
   "source": [
    "\"\"\"\n",
    "Use different embedded methods to extract relevant features :\n",
    "- Lasso and Ridge Logistic Regression\n",
    "- Support Vector Machine (SVM) method with Recursive Feature Elimination (RFE)\n",
    "\n",
    "Parameters\n",
    "----------\n",
    "data_window.h5         : extracted data from preprocessing1.py\n",
    "data_window3.h5        : extracted data from preprocessing2.py\n",
    "data_window_labels.npy : label numpy array from preprocessing1.py\n",
    "\n",
    "Return\n",
    "----------\n",
    "Print the results of the different methods (precision, recall, f1)\n",
    "Plot the graphs of the different extractions\n",
    "\"\"\""
   ]
  },
  {
   "cell_type": "code",
   "execution_count": 3,
   "metadata": {},
   "outputs": [],
   "source": [
    "import numpy as np\n",
    "import pandas as pd\n",
    "from scipy.sparse import csc_matrix\n",
    "import matplotlib.pyplot as plt\n",
    "import matplotlib.dates as mdates\n",
    "import h5py"
   ]
  },
  {
   "cell_type": "code",
   "execution_count": 4,
   "metadata": {},
   "outputs": [],
   "source": [
    "from sklearn import model_selection, feature_selection, linear_model, metrics"
   ]
  },
  {
   "cell_type": "code",
   "execution_count": 5,
   "metadata": {},
   "outputs": [
    {
     "name": "stdout",
     "output_type": "stream",
     "text": [
      "Import data\n"
     ]
    }
   ],
   "source": [
    "print(\"Import data\")"
   ]
  },
  {
   "cell_type": "code",
   "execution_count": 6,
   "metadata": {},
   "outputs": [],
   "source": [
    "X = pd.read_hdf('data_window_botnet3.h5', key='data')\n",
    "X.reset_index(drop=True, inplace=True)"
   ]
  },
  {
   "cell_type": "code",
   "execution_count": 7,
   "metadata": {},
   "outputs": [],
   "source": [
    "X2 = pd.read_hdf('data_window3_botnet3.h5', key='data')\n",
    "X2.reset_index(drop=True, inplace=True)"
   ]
  },
  {
   "cell_type": "code",
   "execution_count": 8,
   "metadata": {},
   "outputs": [],
   "source": [
    "X = X.join(X2)"
   ]
  },
  {
   "cell_type": "code",
   "execution_count": 9,
   "metadata": {},
   "outputs": [],
   "source": [
    "X.drop('window_id', axis=1, inplace=True)"
   ]
  },
  {
   "cell_type": "code",
   "execution_count": 13,
   "metadata": {},
   "outputs": [
    {
     "name": "stdout",
     "output_type": "stream",
     "text": [
      "           counts  Sport_nunique  DstAddr_nunique  Dport_nunique   Dur_sum  \\\n",
      "0       -0.029219      -0.063408        -0.053469      -0.004937  0.546187   \n",
      "1       -0.029219      -0.084612        -0.053469      -0.013360  0.548073   \n",
      "2       -0.029219      -0.063408        -0.053469      -0.004937 -0.160237   \n",
      "3       -0.029219      -0.063408        -0.053469      -0.004937  0.447344   \n",
      "4       -0.029219      -0.063408        -0.053469      -0.004937 -0.163826   \n",
      "...           ...            ...              ...            ...       ...   \n",
      "2024048 -0.029219      -0.063408        -0.053469      -0.004937 -0.163826   \n",
      "2024049 -0.029219      -0.063408        -0.053469      -0.004937 -0.163826   \n",
      "2024050 -0.029219      -0.063408        -0.053469      -0.004937 -0.163826   \n",
      "2024051 -0.029219      -0.063408        -0.053469      -0.004937 -0.163826   \n",
      "2024052 -0.029219      -0.063408        -0.053469      -0.004937 -0.163826   \n",
      "\n",
      "         Dur_mean   Dur_std   Dur_max  Dur_median  TotBytes_sum  ...  \\\n",
      "0        2.644929 -0.150163  2.489406    2.639364     -0.000195  ...   \n",
      "1        2.653337 -0.150163  2.497443    2.647737     -0.007928  ...   \n",
      "2       -0.504383 -0.150163 -0.521016   -0.496778     -0.013977  ...   \n",
      "3        2.204278 -0.150163  2.068188    2.200555     -0.013920  ...   \n",
      "4       -0.520381 -0.150163 -0.536309   -0.512709     -0.014173  ...   \n",
      "...           ...       ...       ...         ...           ...  ...   \n",
      "2024048 -0.520381 -0.150163 -0.536309   -0.512709     -0.014173  ...   \n",
      "2024049 -0.520381 -0.150163 -0.536309   -0.512710     -0.014171  ...   \n",
      "2024050 -0.520381 -0.150163 -0.536309   -0.512709     -0.014173  ...   \n",
      "2024051 -0.520381 -0.150163 -0.536309   -0.512709     -0.014171  ...   \n",
      "2024052 -0.520380 -0.150163 -0.536308   -0.512708     -0.014126  ...   \n",
      "\n",
      "         TotBytes_max  TotBytes_median  SrcBytes_sum  SrcBytes_mean  \\\n",
      "0            0.003837         0.019179      0.017779       0.046272   \n",
      "1           -0.005394         0.003701      0.004348       0.017186   \n",
      "2           -0.012613        -0.008403     -0.006351      -0.005984   \n",
      "3           -0.012545        -0.008288     -0.006057      -0.005346   \n",
      "4           -0.012847        -0.008796     -0.006512      -0.006331   \n",
      "...               ...              ...           ...            ...   \n",
      "2024048     -0.012847        -0.008796     -0.006512      -0.006331   \n",
      "2024049     -0.012845        -0.008792     -0.006494      -0.006293   \n",
      "2024050     -0.012847        -0.008795     -0.006509      -0.006325   \n",
      "2024051     -0.012845        -0.008792     -0.006507      -0.006322   \n",
      "2024052     -0.012791        -0.008702     -0.006428      -0.006150   \n",
      "\n",
      "         SrcBytes_std  SrcBytes_max  SrcBytes_median  Sport_RU  DstAddr_RU  \\\n",
      "0           -0.003493      0.018562         0.054489  0.079879     0.20136   \n",
      "1           -0.003493      0.004935         0.021048  0.079879     0.20136   \n",
      "2           -0.003493     -0.005919        -0.005592  0.079879     0.20136   \n",
      "3           -0.003493     -0.005620        -0.004858  0.079879     0.20136   \n",
      "4           -0.003493     -0.006082        -0.005990  0.079879     0.20136   \n",
      "...               ...           ...              ...       ...         ...   \n",
      "2024048     -0.003493     -0.006082        -0.005990  0.079879     0.20136   \n",
      "2024049     -0.003493     -0.006064        -0.005947  0.079879     0.20136   \n",
      "2024050     -0.003493     -0.006079        -0.005984  0.079879     0.20136   \n",
      "2024051     -0.003493     -0.006077        -0.005980  0.079879     0.20136   \n",
      "2024052     -0.003493     -0.005997        -0.005782  0.079879     0.20136   \n",
      "\n",
      "         Dport_RU  \n",
      "0        0.186766  \n",
      "1        0.186766  \n",
      "2        0.186766  \n",
      "3        0.186766  \n",
      "4        0.186766  \n",
      "...           ...  \n",
      "2024048  0.186766  \n",
      "2024049  0.186766  \n",
      "2024050  0.186766  \n",
      "2024051  0.186766  \n",
      "2024052  0.186766  \n",
      "\n",
      "[2024053 rows x 22 columns]\n"
     ]
    }
   ],
   "source": [
    "print(X)"
   ]
  },
  {
   "cell_type": "code",
   "execution_count": 12,
   "metadata": {},
   "outputs": [
    {
     "ename": "KeyError",
     "evalue": "'Label_<lambda>'",
     "output_type": "error",
     "traceback": [
      "\u001b[0;31m---------------------------------------------------------------------------\u001b[0m",
      "\u001b[0;31mKeyError\u001b[0m                                  Traceback (most recent call last)",
      "\u001b[0;32m~/.local/lib/python3.8/site-packages/pandas/core/indexes/base.py\u001b[0m in \u001b[0;36mget_loc\u001b[0;34m(self, key, method, tolerance)\u001b[0m\n\u001b[1;32m   3620\u001b[0m             \u001b[0;32mtry\u001b[0m\u001b[0;34m:\u001b[0m\u001b[0;34m\u001b[0m\u001b[0;34m\u001b[0m\u001b[0m\n\u001b[0;32m-> 3621\u001b[0;31m                 \u001b[0;32mreturn\u001b[0m \u001b[0mself\u001b[0m\u001b[0;34m.\u001b[0m\u001b[0m_engine\u001b[0m\u001b[0;34m.\u001b[0m\u001b[0mget_loc\u001b[0m\u001b[0;34m(\u001b[0m\u001b[0mcasted_key\u001b[0m\u001b[0;34m)\u001b[0m\u001b[0;34m\u001b[0m\u001b[0;34m\u001b[0m\u001b[0m\n\u001b[0m\u001b[1;32m   3622\u001b[0m             \u001b[0;32mexcept\u001b[0m \u001b[0mKeyError\u001b[0m \u001b[0;32mas\u001b[0m \u001b[0merr\u001b[0m\u001b[0;34m:\u001b[0m\u001b[0;34m\u001b[0m\u001b[0;34m\u001b[0m\u001b[0m\n",
      "\u001b[0;32m~/.local/lib/python3.8/site-packages/pandas/_libs/index.pyx\u001b[0m in \u001b[0;36mpandas._libs.index.IndexEngine.get_loc\u001b[0;34m()\u001b[0m\n",
      "\u001b[0;32m~/.local/lib/python3.8/site-packages/pandas/_libs/index.pyx\u001b[0m in \u001b[0;36mpandas._libs.index.IndexEngine.get_loc\u001b[0;34m()\u001b[0m\n",
      "\u001b[0;32mpandas/_libs/hashtable_class_helper.pxi\u001b[0m in \u001b[0;36mpandas._libs.hashtable.PyObjectHashTable.get_item\u001b[0;34m()\u001b[0m\n",
      "\u001b[0;32mpandas/_libs/hashtable_class_helper.pxi\u001b[0m in \u001b[0;36mpandas._libs.hashtable.PyObjectHashTable.get_item\u001b[0;34m()\u001b[0m\n",
      "\u001b[0;31mKeyError\u001b[0m: 'Label_<lambda>'",
      "\nThe above exception was the direct cause of the following exception:\n",
      "\u001b[0;31mKeyError\u001b[0m                                  Traceback (most recent call last)",
      "\u001b[0;32m<ipython-input-12-b54f0791bf8a>\u001b[0m in \u001b[0;36m<module>\u001b[0;34m\u001b[0m\n\u001b[0;32m----> 1\u001b[0;31m \u001b[0my\u001b[0m \u001b[0;34m=\u001b[0m \u001b[0mX\u001b[0m\u001b[0;34m[\u001b[0m\u001b[0;34m'Label_<lambda>'\u001b[0m\u001b[0;34m]\u001b[0m\u001b[0;34m\u001b[0m\u001b[0;34m\u001b[0m\u001b[0m\n\u001b[0m\u001b[1;32m      2\u001b[0m \u001b[0mprint\u001b[0m\u001b[0;34m(\u001b[0m\u001b[0mX\u001b[0m\u001b[0;34m[\u001b[0m\u001b[0;34m'Label_<lambda>'\u001b[0m\u001b[0;34m]\u001b[0m\u001b[0;34m)\u001b[0m\u001b[0;34m\u001b[0m\u001b[0;34m\u001b[0m\u001b[0m\n\u001b[1;32m      3\u001b[0m \u001b[0mX\u001b[0m\u001b[0;34m.\u001b[0m\u001b[0mdrop\u001b[0m\u001b[0;34m(\u001b[0m\u001b[0;34m'Label_<lambda>'\u001b[0m\u001b[0;34m,\u001b[0m \u001b[0maxis\u001b[0m\u001b[0;34m=\u001b[0m\u001b[0;36m1\u001b[0m\u001b[0;34m,\u001b[0m \u001b[0minplace\u001b[0m\u001b[0;34m=\u001b[0m\u001b[0;32mTrue\u001b[0m\u001b[0;34m)\u001b[0m\u001b[0;34m\u001b[0m\u001b[0;34m\u001b[0m\u001b[0m\n",
      "\u001b[0;32m~/.local/lib/python3.8/site-packages/pandas/core/frame.py\u001b[0m in \u001b[0;36m__getitem__\u001b[0;34m(self, key)\u001b[0m\n\u001b[1;32m   3503\u001b[0m             \u001b[0;32mif\u001b[0m \u001b[0mself\u001b[0m\u001b[0;34m.\u001b[0m\u001b[0mcolumns\u001b[0m\u001b[0;34m.\u001b[0m\u001b[0mnlevels\u001b[0m \u001b[0;34m>\u001b[0m \u001b[0;36m1\u001b[0m\u001b[0;34m:\u001b[0m\u001b[0;34m\u001b[0m\u001b[0;34m\u001b[0m\u001b[0m\n\u001b[1;32m   3504\u001b[0m                 \u001b[0;32mreturn\u001b[0m \u001b[0mself\u001b[0m\u001b[0;34m.\u001b[0m\u001b[0m_getitem_multilevel\u001b[0m\u001b[0;34m(\u001b[0m\u001b[0mkey\u001b[0m\u001b[0;34m)\u001b[0m\u001b[0;34m\u001b[0m\u001b[0;34m\u001b[0m\u001b[0m\n\u001b[0;32m-> 3505\u001b[0;31m             \u001b[0mindexer\u001b[0m \u001b[0;34m=\u001b[0m \u001b[0mself\u001b[0m\u001b[0;34m.\u001b[0m\u001b[0mcolumns\u001b[0m\u001b[0;34m.\u001b[0m\u001b[0mget_loc\u001b[0m\u001b[0;34m(\u001b[0m\u001b[0mkey\u001b[0m\u001b[0;34m)\u001b[0m\u001b[0;34m\u001b[0m\u001b[0;34m\u001b[0m\u001b[0m\n\u001b[0m\u001b[1;32m   3506\u001b[0m             \u001b[0;32mif\u001b[0m \u001b[0mis_integer\u001b[0m\u001b[0;34m(\u001b[0m\u001b[0mindexer\u001b[0m\u001b[0;34m)\u001b[0m\u001b[0;34m:\u001b[0m\u001b[0;34m\u001b[0m\u001b[0;34m\u001b[0m\u001b[0m\n\u001b[1;32m   3507\u001b[0m                 \u001b[0mindexer\u001b[0m \u001b[0;34m=\u001b[0m \u001b[0;34m[\u001b[0m\u001b[0mindexer\u001b[0m\u001b[0;34m]\u001b[0m\u001b[0;34m\u001b[0m\u001b[0;34m\u001b[0m\u001b[0m\n",
      "\u001b[0;32m~/.local/lib/python3.8/site-packages/pandas/core/indexes/base.py\u001b[0m in \u001b[0;36mget_loc\u001b[0;34m(self, key, method, tolerance)\u001b[0m\n\u001b[1;32m   3621\u001b[0m                 \u001b[0;32mreturn\u001b[0m \u001b[0mself\u001b[0m\u001b[0;34m.\u001b[0m\u001b[0m_engine\u001b[0m\u001b[0;34m.\u001b[0m\u001b[0mget_loc\u001b[0m\u001b[0;34m(\u001b[0m\u001b[0mcasted_key\u001b[0m\u001b[0;34m)\u001b[0m\u001b[0;34m\u001b[0m\u001b[0;34m\u001b[0m\u001b[0m\n\u001b[1;32m   3622\u001b[0m             \u001b[0;32mexcept\u001b[0m \u001b[0mKeyError\u001b[0m \u001b[0;32mas\u001b[0m \u001b[0merr\u001b[0m\u001b[0;34m:\u001b[0m\u001b[0;34m\u001b[0m\u001b[0;34m\u001b[0m\u001b[0m\n\u001b[0;32m-> 3623\u001b[0;31m                 \u001b[0;32mraise\u001b[0m \u001b[0mKeyError\u001b[0m\u001b[0;34m(\u001b[0m\u001b[0mkey\u001b[0m\u001b[0;34m)\u001b[0m \u001b[0;32mfrom\u001b[0m \u001b[0merr\u001b[0m\u001b[0;34m\u001b[0m\u001b[0;34m\u001b[0m\u001b[0m\n\u001b[0m\u001b[1;32m   3624\u001b[0m             \u001b[0;32mexcept\u001b[0m \u001b[0mTypeError\u001b[0m\u001b[0;34m:\u001b[0m\u001b[0;34m\u001b[0m\u001b[0;34m\u001b[0m\u001b[0m\n\u001b[1;32m   3625\u001b[0m                 \u001b[0;31m# If we have a listlike key, _check_indexing_error will raise\u001b[0m\u001b[0;34m\u001b[0m\u001b[0;34m\u001b[0m\u001b[0;34m\u001b[0m\u001b[0m\n",
      "\u001b[0;31mKeyError\u001b[0m: 'Label_<lambda>'"
     ]
    }
   ],
   "source": [
    "y = X['Label_<lambda>']\n",
    "print(X['Label_<lambda>'])\n",
    "X.drop('Label_<lambda>', axis=1, inplace=True)"
   ]
  },
  {
   "cell_type": "code",
   "execution_count": 11,
   "metadata": {},
   "outputs": [
    {
     "name": "stdout",
     "output_type": "stream",
     "text": [
      "0          [0]\n",
      "1          [0]\n",
      "2          [0]\n",
      "3          [0]\n",
      "4          [0]\n",
      "          ... \n",
      "2024048    [0]\n",
      "2024049    [0]\n",
      "2024050    [0]\n",
      "2024051    [0]\n",
      "2024052    [0]\n",
      "Name: Label_<lambda>, Length: 2024053, dtype: object\n"
     ]
    }
   ],
   "source": [
    "print(X)"
   ]
  },
  {
   "cell_type": "code",
   "execution_count": 10,
   "metadata": {},
   "outputs": [],
   "source": [
    "labels = np.load(\"data_window_botnet3_labels.npy\",allow_pickle=True)"
   ]
  },
  {
   "cell_type": "code",
   "execution_count": 11,
   "metadata": {},
   "outputs": [
    {
     "name": "stdout",
     "output_type": "stream",
     "text": [
      "['counts' 'Sport_nunique' 'DstAddr_nunique' 'Dport_nunique' 'Dur_sum'\n",
      " 'Dur_mean' 'Dur_std' 'Dur_max' 'Dur_median' 'TotBytes_sum'\n",
      " 'TotBytes_mean' 'TotBytes_std' 'TotBytes_max' 'TotBytes_median'\n",
      " 'SrcBytes_sum' 'SrcBytes_mean' 'SrcBytes_std' 'SrcBytes_max'\n",
      " 'SrcBytes_median' 'Sport_RU' 'DstAddr_RU' 'Dport_RU']\n",
      "['flow=Background' 'flow=To-Backgro' 'flow=From-Backg' 'flow=From-Norma'\n",
      " 'flow=To-Normal-' 'flow=Normal-V42' 'flow=From-Botne']\n"
     ]
    }
   ],
   "source": [
    "#print(X)\n",
    "#print(y)\n",
    "print(X.columns.values)\n",
    "print(labels)"
   ]
  },
  {
   "cell_type": "code",
   "execution_count": 15,
   "metadata": {},
   "outputs": [
    {
     "name": "stdout",
     "output_type": "stream",
     "text": [
      "0          True\n",
      "1          True\n",
      "2          True\n",
      "3          True\n",
      "4          True\n",
      "           ... \n",
      "2024048    True\n",
      "2024049    True\n",
      "2024050    True\n",
      "2024051    True\n",
      "2024052    True\n",
      "Name: Label_<lambda>, Length: 2024053, dtype: bool\n"
     ]
    }
   ],
   "source": [
    "y_bin6 = y==6\n",
    "print(y==6)\n",
    "X_train, X_test, y_train, y_test = model_selection.train_test_split(X, y_bin6, test_size=0.33, random_state=123456)\n",
    "#y_train_bin6 = y_train==6\n",
    "#y_test_bin6 = y_test==6"
   ]
  },
  {
   "cell_type": "code",
   "execution_count": 25,
   "metadata": {},
   "outputs": [
    {
     "name": "stdout",
     "output_type": "stream",
     "text": [
      "y (array([list([0]), list([1]), list([2]), list([3]), list([4]), list([6])],\n",
      "      dtype=object), array([2207092,   18047,     263,     984,      48,     286]))\n",
      "y_train (array([False]), array([2204452]))\n",
      "y_test (array([False]), array([22268]))\n"
     ]
    }
   ],
   "source": [
    "print(\"y\", np.unique(y, return_counts=True))\n",
    "print(\"y_train\", np.unique(y_train, return_counts=True))\n",
    "print(\"y_test\", np.unique(y_test, return_counts=True))"
   ]
  },
  {
   "cell_type": "code",
   "execution_count": 26,
   "metadata": {},
   "outputs": [
    {
     "name": "stdout",
     "output_type": "stream",
     "text": [
      "Logistic Regression\n"
     ]
    }
   ],
   "source": [
    "## Embedded Method\n",
    "print(\"Logistic Regression\")"
   ]
  },
  {
   "cell_type": "code",
   "execution_count": 27,
   "metadata": {},
   "outputs": [
    {
     "ename": "ValueError",
     "evalue": "This solver needs samples of at least 2 classes in the data, but the data contains only one class: False",
     "output_type": "error",
     "traceback": [
      "\u001b[0;31m---------------------------------------------------------------------------\u001b[0m",
      "\u001b[0;31mValueError\u001b[0m                                Traceback (most recent call last)",
      "\u001b[0;32m<ipython-input-27-9e0ae83f4fe7>\u001b[0m in \u001b[0;36m<module>\u001b[0;34m\u001b[0m\n\u001b[1;32m      1\u001b[0m \u001b[0mclf\u001b[0m \u001b[0;34m=\u001b[0m \u001b[0mlinear_model\u001b[0m\u001b[0;34m.\u001b[0m\u001b[0mLogisticRegression\u001b[0m\u001b[0;34m(\u001b[0m\u001b[0mpenalty\u001b[0m\u001b[0;34m=\u001b[0m\u001b[0;34m'l2'\u001b[0m\u001b[0;34m,\u001b[0m \u001b[0mC\u001b[0m\u001b[0;34m=\u001b[0m\u001b[0;36m1.0\u001b[0m\u001b[0;34m,\u001b[0m \u001b[0mrandom_state\u001b[0m\u001b[0;34m=\u001b[0m\u001b[0;36m123456\u001b[0m\u001b[0;34m,\u001b[0m \u001b[0mmulti_class\u001b[0m\u001b[0;34m=\u001b[0m\u001b[0;34m\"auto\"\u001b[0m\u001b[0;34m,\u001b[0m \u001b[0mclass_weight\u001b[0m\u001b[0;34m=\u001b[0m\u001b[0;32mNone\u001b[0m\u001b[0;34m,\u001b[0m \u001b[0msolver\u001b[0m\u001b[0;34m=\u001b[0m\u001b[0;34m\"lbfgs\"\u001b[0m\u001b[0;34m,\u001b[0m \u001b[0mmax_iter\u001b[0m\u001b[0;34m=\u001b[0m\u001b[0;36m1000\u001b[0m\u001b[0;34m,\u001b[0m \u001b[0mverbose\u001b[0m\u001b[0;34m=\u001b[0m\u001b[0;36m1\u001b[0m\u001b[0;34m)\u001b[0m\u001b[0;34m\u001b[0m\u001b[0;34m\u001b[0m\u001b[0m\n\u001b[0;32m----> 2\u001b[0;31m \u001b[0mclf\u001b[0m\u001b[0;34m.\u001b[0m\u001b[0mfit\u001b[0m\u001b[0;34m(\u001b[0m\u001b[0mX_train\u001b[0m\u001b[0;34m,\u001b[0m \u001b[0my_train\u001b[0m\u001b[0;34m)\u001b[0m\u001b[0;34m\u001b[0m\u001b[0;34m\u001b[0m\u001b[0m\n\u001b[0m\u001b[1;32m      3\u001b[0m \u001b[0;31m#print(clf.classes_)\u001b[0m\u001b[0;34m\u001b[0m\u001b[0;34m\u001b[0m\u001b[0;34m\u001b[0m\u001b[0m\n\u001b[1;32m      4\u001b[0m \u001b[0mprint\u001b[0m\u001b[0;34m(\u001b[0m\u001b[0mclf\u001b[0m\u001b[0;34m.\u001b[0m\u001b[0mcoef_\u001b[0m\u001b[0;34m)\u001b[0m\u001b[0;34m\u001b[0m\u001b[0;34m\u001b[0m\u001b[0m\n\u001b[1;32m      5\u001b[0m \u001b[0mprint\u001b[0m\u001b[0;34m(\u001b[0m\u001b[0mclf\u001b[0m\u001b[0;34m.\u001b[0m\u001b[0mintercept_\u001b[0m\u001b[0;34m)\u001b[0m\u001b[0;34m\u001b[0m\u001b[0;34m\u001b[0m\u001b[0m\n",
      "\u001b[0;32m~/.local/lib/python3.8/site-packages/sklearn/linear_model/_logistic.py\u001b[0m in \u001b[0;36mfit\u001b[0;34m(self, X, y, sample_weight)\u001b[0m\n\u001b[1;32m   1552\u001b[0m         \u001b[0mclasses_\u001b[0m \u001b[0;34m=\u001b[0m \u001b[0mself\u001b[0m\u001b[0;34m.\u001b[0m\u001b[0mclasses_\u001b[0m\u001b[0;34m\u001b[0m\u001b[0;34m\u001b[0m\u001b[0m\n\u001b[1;32m   1553\u001b[0m         \u001b[0;32mif\u001b[0m \u001b[0mn_classes\u001b[0m \u001b[0;34m<\u001b[0m \u001b[0;36m2\u001b[0m\u001b[0;34m:\u001b[0m\u001b[0;34m\u001b[0m\u001b[0;34m\u001b[0m\u001b[0m\n\u001b[0;32m-> 1554\u001b[0;31m             raise ValueError(\n\u001b[0m\u001b[1;32m   1555\u001b[0m                 \u001b[0;34m\"This solver needs samples of at least 2 classes\"\u001b[0m\u001b[0;34m\u001b[0m\u001b[0;34m\u001b[0m\u001b[0m\n\u001b[1;32m   1556\u001b[0m                 \u001b[0;34m\" in the data, but the data contains only one\"\u001b[0m\u001b[0;34m\u001b[0m\u001b[0;34m\u001b[0m\u001b[0m\n",
      "\u001b[0;31mValueError\u001b[0m: This solver needs samples of at least 2 classes in the data, but the data contains only one class: False"
     ]
    }
   ],
   "source": [
    "clf = linear_model.LogisticRegression(penalty='l2', C=1.0, random_state=123456, multi_class=\"auto\", class_weight=None, solver=\"lbfgs\", max_iter=1000, verbose=1)\n",
    "clf.fit(X_train, y_train)\n",
    "#print(clf.classes_)\n",
    "print(clf.coef_)\n",
    "print(clf.intercept_)"
   ]
  },
  {
   "cell_type": "code",
   "execution_count": null,
   "metadata": {},
   "outputs": [],
   "source": [
    "y_pred = clf.predict(X_test)\n",
    "#y_pred_bin6 = y_pred==6\n",
    "#print(clf.predict_proba(X_test))\n",
    "print(\"accuracy score = \", metrics.balanced_accuracy_score(y_test, y_pred))\n",
    "precision, recall, fbeta_score, support = metrics.precision_recall_fscore_support(y_test, y_pred)\n",
    "print(\"precision = \", precision[1])\n",
    "print(\"recall = \", recall[1])\n",
    "print(\"fbeta_score = \", fbeta_score[1])\n",
    "print(\"support = \", support[1])"
   ]
  },
  {
   "cell_type": "code",
   "execution_count": null,
   "metadata": {},
   "outputs": [],
   "source": [
    "clf = linear_model.LogisticRegression(penalty='l2', C=1.0, random_state=123456, multi_class=\"auto\", class_weight='balanced', solver=\"lbfgs\", max_iter=1000, verbose=1)\n",
    "clf.fit(X_train, y_train)\n",
    "#print(clf.classes_)\n",
    "print(clf.coef_)\n",
    "print(clf.intercept_)"
   ]
  },
  {
   "cell_type": "code",
   "execution_count": null,
   "metadata": {},
   "outputs": [],
   "source": [
    "y_pred = clf.predict(X_test)\n",
    "#y_pred_bin6 = y_pred==6\n",
    "#print(clf.predict_proba(X_test))\n",
    "print(\"accuracy score = \", metrics.balanced_accuracy_score(y_test, y_pred))\n",
    "precision, recall, fbeta_score, support = metrics.precision_recall_fscore_support(y_test, y_pred)\n",
    "print(\"precision = \", precision[1])\n",
    "print(\"recall = \", recall[1])\n",
    "print(\"fbeta_score = \", fbeta_score[1])\n",
    "print(\"support = \", support[1])"
   ]
  },
  {
   "cell_type": "code",
   "execution_count": null,
   "metadata": {},
   "outputs": [],
   "source": [
    "clf = linear_model.LogisticRegression(penalty='l2', C=1.0, random_state=123456, multi_class=\"auto\", class_weight={0:0.5, 1:0.5}, solver=\"lbfgs\", max_iter=1000, verbose=1)\n",
    "clf.fit(X_train, y_train)\n",
    "#print(clf.classes_)\n",
    "print(clf.coef_)\n",
    "print(clf.intercept_)"
   ]
  },
  {
   "cell_type": "code",
   "execution_count": null,
   "metadata": {},
   "outputs": [],
   "source": [
    "y_pred = clf.predict(X_test)\n",
    "#y_pred_bin6 = y_pred==6\n",
    "#print(clf.predict_proba(X_test))\n",
    "print(\"accuracy score = \", metrics.balanced_accuracy_score(y_test, y_pred))\n",
    "precision, recall, fbeta_score, support = metrics.precision_recall_fscore_support(y_test, y_pred)\n",
    "print(\"precision = \", precision[1])\n",
    "print(\"recall = \", recall[1])\n",
    "print(\"fbeta_score = \", fbeta_score[1])\n",
    "print(\"support = \", support[1])"
   ]
  },
  {
   "cell_type": "markdown",
   "metadata": {},
   "source": [
    "main problems:\n",
    "with class_weight='balanced', super high recall but very low precision\n",
    "without, high precision but very low recall\n",
    "accuracy score not a good metric (even balanced_accuracy)"
   ]
  },
  {
   "cell_type": "code",
   "execution_count": null,
   "metadata": {
    "lines_to_next_cell": 1
   },
   "outputs": [],
   "source": [
    "print(\"Logistic Regression Cross Validation\")"
   ]
  },
  {
   "cell_type": "code",
   "execution_count": null,
   "metadata": {
    "lines_to_next_cell": 1
   },
   "outputs": [],
   "source": [
    "def apply_logreg_cross_validation(X, y, svc_args={'penalty':'l2', 'C':1.0, 'random_state':123456, 'multi_class':\"auto\", 'class_weight':None, 'solver':\"lbfgs\", 'max_iter':1000, 'verbose':1}):\n",
    "    clf = linear_model.LogisticRegression(**svc_args)\n",
    "    cv = model_selection.ShuffleSplit(n_splits=10, test_size=0.1, random_state=123456)\n",
    "    scores = model_selection.cross_validate(clf, X, y, cv=cv, scoring=['precision', 'recall', 'f1'], return_train_score=True)\n",
    "    print(scores)\n",
    "    return [np.mean(scores['test_precision']), np.mean(scores['test_recall']), np.mean(scores['test_f1'])]"
   ]
  },
  {
   "cell_type": "code",
   "execution_count": null,
   "metadata": {},
   "outputs": [],
   "source": [
    "tab_class_weight = np.linspace(0, 0.1, 10)\n",
    "print(tab_class_weight)"
   ]
  },
  {
   "cell_type": "code",
   "execution_count": null,
   "metadata": {},
   "outputs": [],
   "source": [
    "tab_score = np.array([apply_logreg_cross_validation(X_train, y_train, {'penalty':'l2', 'C':1.0, 'random_state':123456, 'multi_class':\"auto\", 'class_weight':{0:w, 1:1-w}, 'solver':\"lbfgs\", 'max_iter':1000, 'verbose':0}) for w in tab_class_weight])\n",
    "print(tab_score)"
   ]
  },
  {
   "cell_type": "code",
   "execution_count": null,
   "metadata": {},
   "outputs": [],
   "source": [
    "plt.plot(tab_class_weight, tab_score[:, 0])\n",
    "plt.plot(tab_class_weight, tab_score[:, 1])\n",
    "plt.plot(tab_class_weight, tab_score[:, 2])\n",
    "plt.legend([\"test_precision\", \"test_recall\", \"test_f1\"])\n",
    "plt.xlabel(\"Botnet class weight\")"
   ]
  },
  {
   "cell_type": "code",
   "execution_count": null,
   "metadata": {
    "lines_to_next_cell": 1
   },
   "outputs": [],
   "source": [
    "plt.tight_layout(rect=[0, 0.03, 1, 0.95])\n",
    "plt.savefig(\"cross_validation_class_weight.pdf\", format=\"pdf\")\n",
    "plt.show()"
   ]
  },
  {
   "cell_type": "markdown",
   "metadata": {},
   "source": [
    "Results: class_weight_best = 0.044"
   ]
  },
  {
   "cell_type": "code",
   "execution_count": null,
   "metadata": {
    "lines_to_next_cell": 1
   },
   "outputs": [],
   "source": [
    "def apply_logreg_cross_validation_coeff(X, y, svc_args={'penalty':'l2', 'C':1.0, 'random_state':123456, 'multi_class':\"auto\", 'class_weight':None, 'solver':\"lbfgs\", 'max_iter':1000, 'verbose':1}):\n",
    "    clf = linear_model.LogisticRegression(**svc_args)\n",
    "    #cv = model_selection.ShuffleSplit(n_splits=10, test_size=0.1, random_state=123456) #for l2\n",
    "    cv = model_selection.ShuffleSplit(n_splits=3, test_size=0.1, random_state=123456) #for l1\n",
    "    scores = model_selection.cross_validate(clf, X, y, cv=cv, scoring=['precision', 'recall', 'f1'], return_train_score=True, return_estimator=True)\n",
    "    print(scores)\n",
    "    return [np.mean(scores['test_precision']), np.mean(scores['test_recall']), np.mean(scores['test_f1']), np.mean([model.coef_[0] for model in scores['estimator']], axis=0)]"
   ]
  },
  {
   "cell_type": "code",
   "execution_count": null,
   "metadata": {},
   "outputs": [],
   "source": [
    "tab_C = np.logspace(-2, 6, 9)\n",
    "tab_logC = np.log10(tab_C)\n",
    "print(tab_C)\n",
    "print(tab_logC)"
   ]
  },
  {
   "cell_type": "code",
   "execution_count": null,
   "metadata": {},
   "outputs": [],
   "source": [
    "tab_score = np.array([apply_logreg_cross_validation_coeff(X_train, y_train, {'penalty':'l2', 'C':C, 'random_state':123456, 'multi_class':\"auto\", 'class_weight':{0:0.044, 1:1-0.044}, 'solver':\"lbfgs\", 'max_iter':1000, 'verbose':0}) for C in tab_C])\n",
    "print(tab_score)"
   ]
  },
  {
   "cell_type": "code",
   "execution_count": null,
   "metadata": {},
   "outputs": [],
   "source": [
    "plt.plot(tab_logC, tab_score[:, 0])\n",
    "plt.plot(tab_logC, tab_score[:, 1])\n",
    "plt.plot(tab_logC, tab_score[:, 2])\n",
    "plt.legend([\"test_precision\", \"test_recall\", \"test_f1\"])\n",
    "plt.xlabel(\"log(C)\")"
   ]
  },
  {
   "cell_type": "code",
   "execution_count": null,
   "metadata": {},
   "outputs": [],
   "source": [
    "plt.tight_layout(rect=[0, 0.03, 1, 0.95])\n",
    "plt.savefig(\"cross_validation_C.pdf\", format=\"pdf\")\n",
    "plt.show()"
   ]
  },
  {
   "cell_type": "code",
   "execution_count": null,
   "metadata": {},
   "outputs": [],
   "source": [
    "matrix_coeff = np.stack(tab_score[:, 3], axis=0)\n",
    "print(matrix_coeff)\n",
    "print(matrix_coeff.shape)"
   ]
  },
  {
   "cell_type": "code",
   "execution_count": null,
   "metadata": {},
   "outputs": [],
   "source": [
    "ax = plt.subplot(111)\n",
    "NUM_COLORS = matrix_coeff.shape[1]\n",
    "LINE_STYLES = ['solid', 'dashed', 'dashdot', 'dotted']\n",
    "NUM_STYLES = len(LINE_STYLES)\n",
    "cm = plt.get_cmap('Set1')"
   ]
  },
  {
   "cell_type": "code",
   "execution_count": null,
   "metadata": {},
   "outputs": [],
   "source": [
    "for i in range(0, matrix_coeff.shape[1]):\n",
    "    lines = ax.plot(tab_logC, matrix_coeff[:, i])\n",
    "    lines[0].set_color(cm(i//NUM_STYLES))\n",
    "    lines[0].set_linestyle(LINE_STYLES[i%NUM_STYLES])"
   ]
  },
  {
   "cell_type": "code",
   "execution_count": null,
   "metadata": {},
   "outputs": [],
   "source": [
    "plt.xlabel(\"log(C)\")\n",
    "plt.xticks(label=np.log(tab_C))"
   ]
  },
  {
   "cell_type": "code",
   "execution_count": null,
   "metadata": {},
   "outputs": [],
   "source": [
    "box = ax.get_position()\n",
    "ax.set_position([box.x0, box.y0, box.width * 0.95, box.height])\n",
    "ax.legend(np.arange(0, matrix_coeff.shape[1]), loc='center left', bbox_to_anchor=(1, 0.5))"
   ]
  },
  {
   "cell_type": "code",
   "execution_count": null,
   "metadata": {},
   "outputs": [],
   "source": [
    "plt.savefig(\"cross_validation_C_coeff.pdf\", format=\"pdf\")\n",
    "plt.show()"
   ]
  },
  {
   "cell_type": "code",
   "execution_count": null,
   "metadata": {
    "lines_to_next_cell": 2
   },
   "outputs": [],
   "source": [
    "print(matrix_coeff)"
   ]
  },
  {
   "cell_type": "code",
   "execution_count": null,
   "metadata": {},
   "outputs": [],
   "source": [
    "tab_C = np.linspace(550, 1000, 10)\n",
    "print(tab_C)"
   ]
  },
  {
   "cell_type": "code",
   "execution_count": null,
   "metadata": {},
   "outputs": [],
   "source": [
    "tab_score = np.array([apply_logreg_cross_validation_coeff(X_train, y_train, {'penalty':'l2', 'C':C, 'random_state':123456, 'multi_class':\"auto\", 'class_weight':{0:0.044, 1:1-0.044}, 'solver':\"lbfgs\", 'max_iter':1000, 'verbose':0}) for C in tab_C])\n",
    "print(tab_score)"
   ]
  },
  {
   "cell_type": "code",
   "execution_count": null,
   "metadata": {},
   "outputs": [],
   "source": [
    "plt.plot(tab_C, tab_score[:, 0])\n",
    "plt.plot(tab_C, tab_score[:, 1])\n",
    "plt.plot(tab_C, tab_score[:, 2])\n",
    "plt.legend([\"test_precision\", \"test_recall\", \"test_f1\"])\n",
    "plt.xlabel(\"C\")"
   ]
  },
  {
   "cell_type": "code",
   "execution_count": null,
   "metadata": {},
   "outputs": [],
   "source": [
    "plt.tight_layout(rect=[0, 0.03, 1, 0.95])\n",
    "plt.savefig(\"cross_validation_C.pdf\", format=\"pdf\")\n",
    "plt.show()"
   ]
  },
  {
   "cell_type": "code",
   "execution_count": null,
   "metadata": {},
   "outputs": [],
   "source": [
    "matrix_coeff = np.stack(tab_score[:, 3], axis=0)\n",
    "print(matrix_coeff)\n",
    "print(matrix_coeff.shape)"
   ]
  },
  {
   "cell_type": "code",
   "execution_count": null,
   "metadata": {},
   "outputs": [],
   "source": [
    "ax = plt.subplot(111)\n",
    "NUM_COLORS = matrix_coeff.shape[1]\n",
    "LINE_STYLES = ['solid', 'dashed', 'dashdot', 'dotted']\n",
    "NUM_STYLES = len(LINE_STYLES)\n",
    "cm = plt.get_cmap('Set1')"
   ]
  },
  {
   "cell_type": "code",
   "execution_count": null,
   "metadata": {},
   "outputs": [],
   "source": [
    "for i in range(0, matrix_coeff.shape[1]):\n",
    "    lines = ax.plot(tab_C, matrix_coeff[:, i])\n",
    "    lines[0].set_color(cm(i//NUM_STYLES))\n",
    "    lines[0].set_linestyle(LINE_STYLES[i%NUM_STYLES])"
   ]
  },
  {
   "cell_type": "code",
   "execution_count": null,
   "metadata": {},
   "outputs": [],
   "source": [
    "plt.xlabel(\"C\")"
   ]
  },
  {
   "cell_type": "code",
   "execution_count": null,
   "metadata": {},
   "outputs": [],
   "source": [
    "box = ax.get_position()\n",
    "ax.set_position([box.x0, box.y0, box.width * 0.95, box.height])\n",
    "ax.legend(np.arange(0, matrix_coeff.shape[1]), loc='center left', bbox_to_anchor=(1, 0.5))"
   ]
  },
  {
   "cell_type": "code",
   "execution_count": null,
   "metadata": {},
   "outputs": [],
   "source": [
    "plt.savefig(\"cross_validation_C_coeff.pdf\", format=\"pdf\")\n",
    "plt.show()"
   ]
  },
  {
   "cell_type": "code",
   "execution_count": null,
   "metadata": {},
   "outputs": [],
   "source": [
    "tab_C = np.linspace(50, 1000, 20)\n",
    "print(tab_C)"
   ]
  },
  {
   "cell_type": "code",
   "execution_count": null,
   "metadata": {},
   "outputs": [],
   "source": [
    "print(tab_score)"
   ]
  },
  {
   "cell_type": "code",
   "execution_count": null,
   "metadata": {},
   "outputs": [],
   "source": [
    "plt.plot(tab_C, tab_score[:, 0])\n",
    "plt.plot(tab_C, tab_score[:, 1])\n",
    "plt.plot(tab_C, tab_score[:, 2])\n",
    "plt.legend([\"test_precision\", \"test_recall\", \"test_f1\"], loc='upper right', bbox_to_anchor=(1, 0.9))\n",
    "plt.xlabel(\"C\")"
   ]
  },
  {
   "cell_type": "code",
   "execution_count": null,
   "metadata": {},
   "outputs": [],
   "source": [
    "plt.tight_layout(rect=[0, 0.03, 1, 0.95])\n",
    "plt.savefig(\"cross_validation_C.pdf\", format=\"pdf\")\n",
    "plt.show()"
   ]
  },
  {
   "cell_type": "code",
   "execution_count": null,
   "metadata": {},
   "outputs": [],
   "source": [
    "matrix_coeff = np.stack(tab_score[:, 3], axis=0)\n",
    "print(matrix_coeff)\n",
    "print(matrix_coeff.shape)"
   ]
  },
  {
   "cell_type": "code",
   "execution_count": null,
   "metadata": {},
   "outputs": [],
   "source": [
    "ax = plt.subplot(111)\n",
    "NUM_COLORS = matrix_coeff.shape[1]\n",
    "LINE_STYLES = ['solid', 'dashed', 'dashdot', 'dotted']\n",
    "NUM_STYLES = len(LINE_STYLES)\n",
    "cm = plt.get_cmap('Set1')"
   ]
  },
  {
   "cell_type": "code",
   "execution_count": null,
   "metadata": {},
   "outputs": [],
   "source": [
    "for i in range(0, matrix_coeff.shape[1]):\n",
    "    lines = ax.plot(tab_C, matrix_coeff[:, i])\n",
    "    lines[0].set_color(cm(i//NUM_STYLES))\n",
    "    lines[0].set_linestyle(LINE_STYLES[i%NUM_STYLES])"
   ]
  },
  {
   "cell_type": "code",
   "execution_count": null,
   "metadata": {},
   "outputs": [],
   "source": [
    "plt.xlabel(\"C\")"
   ]
  },
  {
   "cell_type": "code",
   "execution_count": null,
   "metadata": {},
   "outputs": [],
   "source": [
    "box = ax.get_position()\n",
    "ax.set_position([box.x0, box.y0, box.width * 0.95, box.height])\n",
    "ax.legend(np.arange(0, matrix_coeff.shape[1]), loc='center left', bbox_to_anchor=(1, 0.5))"
   ]
  },
  {
   "cell_type": "code",
   "execution_count": null,
   "metadata": {
    "lines_to_next_cell": 2
   },
   "outputs": [],
   "source": [
    "plt.savefig(\"cross_validation_C_coeff.pdf\", format=\"pdf\")\n",
    "plt.show()"
   ]
  },
  {
   "cell_type": "code",
   "execution_count": null,
   "metadata": {},
   "outputs": [],
   "source": [
    "#tab_C = np.logspace(-2, 6, 9)\n",
    "tab_C = [1e6]\n",
    "tab_logC = np.log10(tab_C)\n",
    "print(tab_C)\n",
    "print(tab_logC)"
   ]
  },
  {
   "cell_type": "code",
   "execution_count": null,
   "metadata": {},
   "outputs": [],
   "source": [
    "tab_score = np.array([apply_logreg_cross_validation_coeff(X_train, y_train, {'penalty':'l1', 'C':C, 'random_state':123456, 'multi_class':\"auto\", 'class_weight':{0:0.044, 1:1-0.044}, 'solver':\"liblinear\", 'max_iter':1000, 'verbose':1}) for C in tab_C])\n",
    "print(tab_score)"
   ]
  },
  {
   "cell_type": "code",
   "execution_count": null,
   "metadata": {},
   "outputs": [],
   "source": [
    "plt.plot(tab_logC, tab_score[:, 0])\n",
    "plt.plot(tab_logC, tab_score[:, 1])\n",
    "plt.plot(tab_logC, tab_score[:, 2])\n",
    "plt.legend([\"test_precision\", \"test_recall\", \"test_f1\"])\n",
    "plt.xlabel(\"log(C)\")"
   ]
  },
  {
   "cell_type": "code",
   "execution_count": null,
   "metadata": {},
   "outputs": [],
   "source": [
    "plt.tight_layout(rect=[0, 0.03, 1, 0.95])\n",
    "plt.savefig(\"cross_validation_C.pdf\", format=\"pdf\")\n",
    "plt.show()"
   ]
  },
  {
   "cell_type": "code",
   "execution_count": null,
   "metadata": {},
   "outputs": [],
   "source": [
    "matrix_coeff = np.stack(tab_score[:, 3], axis=0)\n",
    "print(matrix_coeff)\n",
    "print(matrix_coeff.shape)"
   ]
  },
  {
   "cell_type": "code",
   "execution_count": null,
   "metadata": {},
   "outputs": [],
   "source": [
    "ax = plt.subplot(111)\n",
    "NUM_COLORS = matrix_coeff.shape[1]\n",
    "LINE_STYLES = ['solid', 'dashed', 'dashdot', 'dotted']\n",
    "NUM_STYLES = len(LINE_STYLES)\n",
    "cm = plt.get_cmap('Set1')"
   ]
  },
  {
   "cell_type": "code",
   "execution_count": null,
   "metadata": {},
   "outputs": [],
   "source": [
    "for i in range(0, matrix_coeff.shape[1]):\n",
    "    lines = ax.plot(tab_logC, matrix_coeff[:, i])\n",
    "    lines[0].set_color(cm(i//NUM_STYLES))\n",
    "    lines[0].set_linestyle(LINE_STYLES[i%NUM_STYLES])"
   ]
  },
  {
   "cell_type": "code",
   "execution_count": null,
   "metadata": {},
   "outputs": [],
   "source": [
    "plt.xlabel(\"log(C)\")\n",
    "plt.xticks(label=np.log(tab_C))"
   ]
  },
  {
   "cell_type": "code",
   "execution_count": null,
   "metadata": {},
   "outputs": [],
   "source": [
    "box = ax.get_position()\n",
    "ax.set_position([box.x0, box.y0, box.width * 0.95, box.height])\n",
    "ax.legend(np.arange(0, matrix_coeff.shape[1]), loc='center left', bbox_to_anchor=(1, 0.5))"
   ]
  },
  {
   "cell_type": "code",
   "execution_count": null,
   "metadata": {
    "lines_to_next_cell": 2
   },
   "outputs": [],
   "source": [
    "plt.savefig(\"cross_validation_C_coeff.pdf\", format=\"pdf\")\n",
    "plt.show()"
   ]
  },
  {
   "cell_type": "code",
   "execution_count": null,
   "metadata": {
    "lines_to_next_cell": 1
   },
   "outputs": [],
   "source": [
    "print(\"SVM method with RFE\")"
   ]
  },
  {
   "cell_type": "code",
   "execution_count": null,
   "metadata": {
    "lines_to_next_cell": 1
   },
   "outputs": [],
   "source": [
    "def extract_feature(clf, X, y):\n",
    "    pass"
   ]
  },
  {
   "cell_type": "code",
   "execution_count": null,
   "metadata": {},
   "outputs": [],
   "source": [
    "def rfe_svm(X, y):\n",
    "    clf = linear_model.SGDClassifier(loss='hinge', penalty='elasticnet', max_iter=1000, alpha=1e-9, tol=1e-3, random_state=123456, class_weight={0:0.044, 1:1-0.044})\n",
    "    cv = model_selection.ShuffleSplit(n_splits=10, test_size=0.1, random_state=123456)\n",
    "\n",
    "    nb_features = X.shape[1]\n",
    "    print(nb_features)\n",
    "    \n",
    "    scores = model_selection.cross_validate(clf, X, y, cv=cv, scoring=['precision', 'recall', 'f1'], return_train_score=True)\n",
    "    print(scores)\n",
    "    \n",
    "    if nb_features > 1:\n",
    "        rfe = feature_selection.RFE(clf, n_features_to_select=nb_features-1, step=1)\n",
    "        rfe.fit(X, y)\n",
    "        output = rfe_svm(rfe.transform(X), y)\n",
    "        \n",
    "        output.append([nb_features, np.mean(scores['test_precision']), np.mean(scores['test_recall']), np.mean(scores['test_f1']), rfe.support_, rfe.ranking_])\n",
    "        return output\n",
    "    else:\n",
    "        return [[nb_features, np.mean(scores['test_precision']), np.mean(scores['test_recall']), np.mean(scores['test_f1']), [True], [1]]]"
   ]
  },
  {
   "cell_type": "code",
   "execution_count": null,
   "metadata": {},
   "outputs": [],
   "source": [
    "results = np.array(rfe_svm(X_train, y_train))\n",
    "print(results)"
   ]
  },
  {
   "cell_type": "code",
   "execution_count": null,
   "metadata": {},
   "outputs": [],
   "source": [
    "plt.plot(results[:, 0], results[:, 1])\n",
    "plt.plot(results[:, 0], results[:, 2])\n",
    "plt.plot(results[:, 0], results[:, 3])\n",
    "plt.legend([\"test_precision\", \"test_recall\", \"test_f1\"])\n",
    "plt.xlabel(\"Number of features\")"
   ]
  },
  {
   "cell_type": "code",
   "execution_count": null,
   "metadata": {},
   "outputs": [],
   "source": [
    "plt.tight_layout(rect=[0, 0.03, 1, 0.95])\n",
    "plt.savefig(\"cross_validation_rfe.pdf\", format=\"pdf\")\n",
    "plt.show()"
   ]
  },
  {
   "cell_type": "code",
   "execution_count": null,
   "metadata": {
    "lines_to_next_cell": 1
   },
   "outputs": [],
   "source": [
    "def apply_svm_cross_validation(X, y, svc_args={'loss':'hinge', 'penalty':'elasticnet', 'max_iter':1000, 'alpha':0.001, 'tol':1e-3, 'random_state':123456, 'class_weight':None}):\n",
    "    clf = linear_model.SGDClassifier(**svc_args)\n",
    "    cv = model_selection.ShuffleSplit(n_splits=10, test_size=0.1, random_state=123456)\n",
    "    scores = model_selection.cross_validate(clf, X, y, cv=cv, scoring=['precision', 'recall', 'f1'], return_train_score=True)\n",
    "    print(scores)\n",
    "    return [np.mean(scores['test_precision']), np.mean(scores['test_recall']), np.mean(scores['test_f1'])]"
   ]
  },
  {
   "cell_type": "code",
   "execution_count": null,
   "metadata": {},
   "outputs": [],
   "source": [
    "tab_class_weight = np.linspace(0, 0.1, 10)\n",
    "print(tab_class_weight)"
   ]
  },
  {
   "cell_type": "code",
   "execution_count": null,
   "metadata": {},
   "outputs": [],
   "source": [
    "tab_score = np.array([apply_svm_cross_validation(X_train, y_train, {'loss':'hinge', 'penalty':'elasticnet', 'max_iter':1000, 'alpha':0.001, 'tol':1e-3, 'random_state':123456, 'class_weight':{0:w, 1:1-w}}) for w in tab_class_weight])\n",
    "print(tab_score)"
   ]
  },
  {
   "cell_type": "code",
   "execution_count": null,
   "metadata": {},
   "outputs": [],
   "source": [
    "plt.plot(tab_class_weight, tab_score[:, 0])\n",
    "plt.plot(tab_class_weight, tab_score[:, 1])\n",
    "plt.plot(tab_class_weight, tab_score[:, 2])\n",
    "plt.legend([\"test_precision\", \"test_recall\", \"test_f1\"])\n",
    "plt.xlabel(\"Botnet class weight\")"
   ]
  },
  {
   "cell_type": "code",
   "execution_count": null,
   "metadata": {
    "lines_to_next_cell": 2
   },
   "outputs": [],
   "source": [
    "plt.tight_layout(rect=[0, 0.03, 1, 0.95])\n",
    "plt.savefig(\"cross_validation_class_weight_svm.pdf\", format=\"pdf\")\n",
    "plt.show()"
   ]
  },
  {
   "cell_type": "code",
   "execution_count": null,
   "metadata": {},
   "outputs": [],
   "source": [
    "tab_C = np.logspace(-16, -8, 9)\n",
    "tab_logC = np.log10(tab_C)\n",
    "print(tab_C)\n",
    "print(tab_logC)"
   ]
  },
  {
   "cell_type": "code",
   "execution_count": null,
   "metadata": {},
   "outputs": [],
   "source": [
    "tab_score = np.array([apply_svm_cross_validation(X_train, y_train, {'loss':'hinge', 'penalty':'elasticnet', 'max_iter':1000, 'alpha':C, 'tol':1e-3, 'random_state':123456, 'class_weight':{0:0.044, 1:1-0.044}}) for C in tab_C])\n",
    "print(tab_score)"
   ]
  },
  {
   "cell_type": "code",
   "execution_count": null,
   "metadata": {},
   "outputs": [],
   "source": [
    "plt.plot(tab_logC, tab_score[:, 0])\n",
    "plt.plot(tab_logC, tab_score[:, 1])\n",
    "plt.plot(tab_logC, tab_score[:, 2])\n",
    "plt.legend([\"test_precision\", \"test_recall\", \"test_f1\"])\n",
    "plt.xlabel(\"log(alpha)\")"
   ]
  },
  {
   "cell_type": "code",
   "execution_count": null,
   "metadata": {},
   "outputs": [],
   "source": [
    "plt.tight_layout(rect=[0, 0.03, 1, 0.95])\n",
    "plt.savefig(\"cross_validation_alpha.pdf\", format=\"pdf\")\n",
    "plt.show()"
   ]
  }
 ],
 "metadata": {
  "jupytext": {
   "cell_metadata_filter": "-all",
   "encoding": "# -*- coding: utf-8 -*-",
   "formats": "ipynb,py",
   "main_language": "python"
  },
  "kernelspec": {
   "display_name": "Python 3",
   "language": "python",
   "name": "python3"
  },
  "language_info": {
   "codemirror_mode": {
    "name": "ipython",
    "version": 3
   },
   "file_extension": ".py",
   "mimetype": "text/x-python",
   "name": "python",
   "nbconvert_exporter": "python",
   "pygments_lexer": "ipython3",
   "version": "3.8.10"
  }
 },
 "nbformat": 4,
 "nbformat_minor": 4
}
