{
 "cells": [
  {
   "cell_type": "code",
   "execution_count": 1,
   "metadata": {},
   "outputs": [
    {
     "data": {
      "text/plain": [
       "'\\nUse Support Vector Machine to predict which flow is a malware.\\nTune different hyperparameters: gamma_scale, degree, regularization penalty\\nTry a kernel approximation with l2 hinge\\n\\nParameters\\n----------\\ndata_window.h5         : extracted data from preprocessing1.py\\ndata_window3.h5        : extracted data from preprocessing2.py\\ndata_window_labels.npy : label numpy array from preprocessing1.py\\n\\nReturn\\n----------\\nPrint and Plot the results of the hyperparameter tuning (precision, recall and f1)\\nPrint train and test accuracy, precison, recall, f1 and support for the kernel approximation\\n'"
      ]
     },
     "execution_count": 1,
     "metadata": {},
     "output_type": "execute_result"
    }
   ],
   "source": [
    "\"\"\"\n",
    "Use Support Vector Machine to predict which flow is a malware.\n",
    "Tune different hyperparameters: gamma_scale, degree, regularization penalty\n",
    "Try a kernel approximation with l2 hinge\n",
    "\n",
    "Parameters\n",
    "----------\n",
    "data_window.h5         : extracted data from preprocessing1.py\n",
    "data_window3.h5        : extracted data from preprocessing2.py\n",
    "data_window_labels.npy : label numpy array from preprocessing1.py\n",
    "\n",
    "Return\n",
    "----------\n",
    "Print and Plot the results of the hyperparameter tuning (precision, recall and f1)\n",
    "Print train and test accuracy, precison, recall, f1 and support for the kernel approximation\n",
    "\"\"\""
   ]
  },
  {
   "cell_type": "code",
   "execution_count": 2,
   "metadata": {},
   "outputs": [],
   "source": [
    "import numpy as np\n",
    "import pandas as pd\n",
    "from scipy.sparse import csc_matrix\n",
    "import matplotlib.pyplot as plt\n",
    "import matplotlib.dates as mdates\n",
    "import h5py"
   ]
  },
  {
   "cell_type": "code",
   "execution_count": 3,
   "metadata": {},
   "outputs": [],
   "source": [
    "from sklearn import model_selection, feature_selection, kernel_approximation, ensemble, linear_model, metrics"
   ]
  },
  {
   "cell_type": "code",
   "execution_count": 4,
   "metadata": {},
   "outputs": [
    {
     "name": "stdout",
     "output_type": "stream",
     "text": [
      "Import data\n"
     ]
    }
   ],
   "source": [
    "print(\"Import data\")"
   ]
  },
  {
   "cell_type": "code",
   "execution_count": 5,
   "metadata": {},
   "outputs": [],
   "source": [
    "X = pd.read_hdf('data_window_botnet3.h5', key='data')\n",
    "X.reset_index(drop=True, inplace=True)"
   ]
  },
  {
   "cell_type": "code",
   "execution_count": 6,
   "metadata": {},
   "outputs": [],
   "source": [
    "X2 = pd.read_hdf('data_window3_botnet3.h5', key='data')\n",
    "X2.reset_index(drop=True, inplace=True)"
   ]
  },
  {
   "cell_type": "code",
   "execution_count": 7,
   "metadata": {},
   "outputs": [],
   "source": [
    "X = X.join(X2)"
   ]
  },
  {
   "cell_type": "code",
   "execution_count": 8,
   "metadata": {},
   "outputs": [],
   "source": [
    "X.drop('window_id', axis=1, inplace=True)"
   ]
  },
  {
   "cell_type": "code",
   "execution_count": 9,
   "metadata": {},
   "outputs": [],
   "source": [
    "y = X['Label_<lambda>']\n",
    "X.drop('Label_<lambda>', axis=1, inplace=True)"
   ]
  },
  {
   "cell_type": "code",
   "execution_count": 10,
   "metadata": {},
   "outputs": [],
   "source": [
    "labels = np.load(\"data_window_botnet3_labels.npy\", allow_pickle = True)"
   ]
  },
  {
   "cell_type": "code",
   "execution_count": 11,
   "metadata": {},
   "outputs": [
    {
     "name": "stdout",
     "output_type": "stream",
     "text": [
      "['counts' 'Sport_nunique' 'DstAddr_nunique' 'Dport_nunique' 'Dur_sum'\n",
      " 'Dur_mean' 'Dur_std' 'Dur_max' 'Dur_median' 'TotBytes_sum'\n",
      " 'TotBytes_mean' 'TotBytes_std' 'TotBytes_max' 'TotBytes_median'\n",
      " 'SrcBytes_sum' 'SrcBytes_mean' 'SrcBytes_std' 'SrcBytes_max'\n",
      " 'SrcBytes_median' 'Sport_RU' 'DstAddr_RU' 'Dport_RU']\n",
      "['flow=Background' 'flow=To-Backgro' 'flow=From-Backg' 'flow=From-Norma'\n",
      " 'flow=To-Normal-' 'flow=Normal-V42' 'flow=From-Botne']\n",
      "6\n"
     ]
    }
   ],
   "source": [
    "print(X.columns.values)\n",
    "print(labels)\n",
    "print(np.where(labels == 'flow=From-Botne')[0][0])"
   ]
  },
  {
   "cell_type": "code",
   "execution_count": 12,
   "metadata": {},
   "outputs": [],
   "source": [
    "y_bin6 = y==np.where(labels == 'flow=From-Botne')[0][0]\n",
    "X_train, X_test, y_train, y_test = model_selection.train_test_split(X, y_bin6, test_size=0.33, random_state=123456)"
   ]
  },
  {
   "cell_type": "code",
   "execution_count": 13,
   "metadata": {
    "lines_to_next_cell": 1
   },
   "outputs": [
    {
     "name": "stdout",
     "output_type": "stream",
     "text": [
      "y (array([list([0]), list([1]), list([2]), list([3]), list([4]), list([6])],\n",
      "      dtype=object), array([2207092,   18047,     263,     984,      48,     286]))\n",
      "y_train (array([False,  True]), array([1491698,     204]))\n",
      "y_test (array([False,  True]), array([734736,     82]))\n"
     ]
    }
   ],
   "source": [
    "print(\"y\", np.unique(y, return_counts=True))\n",
    "print(\"y_train\", np.unique(y_train, return_counts=True))\n",
    "print(\"y_test\", np.unique(y_test, return_counts=True))"
   ]
  },
  {
   "cell_type": "code",
   "execution_count": 14,
   "metadata": {},
   "outputs": [],
   "source": [
    "## Train\n",
    "def apply_svm_cross_validation(X, y, svc_args={'loss':'hinge', 'penalty':'elasticnet', 'max_iter':100, 'alpha':1e-9, 'tol':1e-3, 'random_state':123456, 'class_weight':None}, kernel_args={'kernel':'rbf', 'gamma':None, 'degree':None, 'n_components':100, 'random_state':123456}):\n",
    "    #print(\"kernel_approx\")\n",
    "    #feature_map_nystroem = kernel_approximation.Nystroem(**kernel_args)\n",
    "    #feature_map_nystroem.fit(X)\n",
    "    #X_new = feature_map_nystroem.transform(X)\n",
    "\n",
    "    print(\"SVM\")\n",
    "    clf = linear_model.SGDClassifier(**svc_args)\n",
    "    cv = model_selection.ShuffleSplit(n_splits=10, test_size=0.1, random_state=123456)\n",
    "    scores = model_selection.cross_validate(clf, X, y, cv=cv, scoring=['precision', 'recall', 'f1'], return_train_score=True)\n",
    "    print(scores)\n",
    "    return [np.mean(scores['test_precision']), np.mean(scores['test_recall']), np.mean(scores['test_f1'])]"
   ]
  },
  {
   "cell_type": "code",
   "execution_count": 15,
   "metadata": {},
   "outputs": [
    {
     "name": "stdout",
     "output_type": "stream",
     "text": [
      "gamma_scale= 0.045454545454545456\n",
      "[0.001      0.00533333 0.00966667 0.014      0.01833333 0.02266667\n",
      " 0.027      0.03133333 0.03566667 0.04       0.04545455]\n"
     ]
    }
   ],
   "source": [
    "gamma_scale = 1/X_train.shape[1]\n",
    "print(\"gamma_scale=\", gamma_scale)\n",
    "tab_gamma = np.concatenate((np.linspace(0.001, 0.04, 10), [gamma_scale]))\n",
    "print(tab_gamma)"
   ]
  },
  {
   "cell_type": "code",
   "execution_count": 16,
   "metadata": {},
   "outputs": [
    {
     "name": "stdout",
     "output_type": "stream",
     "text": [
      "SVM\n"
     ]
    },
    {
     "name": "stderr",
     "output_type": "stream",
     "text": [
      "/home/2019a7ps1343h/.local/lib/python3.6/site-packages/sklearn/metrics/_classification.py:1248: UndefinedMetricWarning: Precision is ill-defined and being set to 0.0 due to no predicted samples. Use `zero_division` parameter to control this behavior.\n",
      "  _warn_prf(average, modifier, msg_start, len(result))\n",
      "/home/2019a7ps1343h/.local/lib/python3.6/site-packages/sklearn/metrics/_classification.py:1248: UndefinedMetricWarning: Precision is ill-defined and being set to 0.0 due to no predicted samples. Use `zero_division` parameter to control this behavior.\n",
      "  _warn_prf(average, modifier, msg_start, len(result))\n"
     ]
    },
    {
     "name": "stdout",
     "output_type": "stream",
     "text": [
      "{'fit_time': array([14.48569536, 15.94651365, 14.75970721, 21.81183863, 21.75416017,\n",
      "       16.97468019, 14.46100402, 17.45500422, 10.71495748,  7.8738656 ]), 'score_time': array([0.26172113, 0.21825457, 0.32524157, 0.22742534, 0.27428532,\n",
      "       0.2220192 , 0.21272302, 0.43287802, 0.27690148, 0.21630907]), 'test_precision': array([0.60869565, 0.875     , 1.        , 1.        , 0.85714286,\n",
      "       0.25      , 0.9375    , 0.        , 0.        , 1.        ]), 'train_precision': array([0.60444444, 0.92361111, 0.92168675, 0.68181818, 0.90769231,\n",
      "       0.21505376, 0.88709677, 0.        , 0.64285714, 0.91156463]), 'test_recall': array([0.875     , 0.73684211, 0.96666667, 0.1       , 0.23076923,\n",
      "       0.15      , 0.78947368, 0.        , 0.        , 0.86956522]), 'train_recall': array([0.72340426, 0.71891892, 0.87931034, 0.08152174, 0.33146067,\n",
      "       0.10869565, 0.89189189, 0.        , 0.04918033, 0.74033149]), 'test_f1': array([0.71794872, 0.8       , 0.98305085, 0.18181818, 0.36363636,\n",
      "       0.1875    , 0.85714286, 0.        , 0.        , 0.93023256]), 'train_f1': array([0.65859564, 0.80851064, 0.9       , 0.14563107, 0.48559671,\n",
      "       0.14440433, 0.88948787, 0.        , 0.09137056, 0.81707317])}\n",
      "SVM\n"
     ]
    },
    {
     "name": "stderr",
     "output_type": "stream",
     "text": [
      "/home/2019a7ps1343h/.local/lib/python3.6/site-packages/sklearn/metrics/_classification.py:1248: UndefinedMetricWarning: Precision is ill-defined and being set to 0.0 due to no predicted samples. Use `zero_division` parameter to control this behavior.\n",
      "  _warn_prf(average, modifier, msg_start, len(result))\n",
      "/home/2019a7ps1343h/.local/lib/python3.6/site-packages/sklearn/metrics/_classification.py:1248: UndefinedMetricWarning: Precision is ill-defined and being set to 0.0 due to no predicted samples. Use `zero_division` parameter to control this behavior.\n",
      "  _warn_prf(average, modifier, msg_start, len(result))\n"
     ]
    },
    {
     "name": "stdout",
     "output_type": "stream",
     "text": [
      "{'fit_time': array([15.22149515, 16.29418087, 14.94936109, 21.92929316, 23.58939147,\n",
      "       16.94860077, 15.14941835, 17.22341466, 10.1917603 ,  7.21742868]), 'score_time': array([0.25831747, 0.22638464, 0.21241474, 0.22888994, 0.22140145,\n",
      "       0.31363559, 0.22398591, 0.23173976, 0.21737623, 0.1922617 ]), 'test_precision': array([0.60869565, 0.875     , 1.        , 1.        , 0.85714286,\n",
      "       0.25      , 0.9375    , 0.        , 0.        , 1.        ]), 'train_precision': array([0.60444444, 0.92361111, 0.92168675, 0.68181818, 0.90769231,\n",
      "       0.21505376, 0.88709677, 0.        , 0.64285714, 0.91156463]), 'test_recall': array([0.875     , 0.73684211, 0.96666667, 0.1       , 0.23076923,\n",
      "       0.15      , 0.78947368, 0.        , 0.        , 0.86956522]), 'train_recall': array([0.72340426, 0.71891892, 0.87931034, 0.08152174, 0.33146067,\n",
      "       0.10869565, 0.89189189, 0.        , 0.04918033, 0.74033149]), 'test_f1': array([0.71794872, 0.8       , 0.98305085, 0.18181818, 0.36363636,\n",
      "       0.1875    , 0.85714286, 0.        , 0.        , 0.93023256]), 'train_f1': array([0.65859564, 0.80851064, 0.9       , 0.14563107, 0.48559671,\n",
      "       0.14440433, 0.88948787, 0.        , 0.09137056, 0.81707317])}\n",
      "SVM\n"
     ]
    },
    {
     "name": "stderr",
     "output_type": "stream",
     "text": [
      "/home/2019a7ps1343h/.local/lib/python3.6/site-packages/sklearn/metrics/_classification.py:1248: UndefinedMetricWarning: Precision is ill-defined and being set to 0.0 due to no predicted samples. Use `zero_division` parameter to control this behavior.\n",
      "  _warn_prf(average, modifier, msg_start, len(result))\n",
      "/home/2019a7ps1343h/.local/lib/python3.6/site-packages/sklearn/metrics/_classification.py:1248: UndefinedMetricWarning: Precision is ill-defined and being set to 0.0 due to no predicted samples. Use `zero_division` parameter to control this behavior.\n",
      "  _warn_prf(average, modifier, msg_start, len(result))\n"
     ]
    },
    {
     "name": "stdout",
     "output_type": "stream",
     "text": [
      "{'fit_time': array([14.87193727, 16.56695795, 15.50720215, 22.99816132, 23.32131481,\n",
      "       17.45552182, 15.58576107, 17.01540017, 10.43361306,  7.50293231]), 'score_time': array([0.26274753, 0.251647  , 0.26419735, 0.39103103, 0.20609212,\n",
      "       0.23438668, 0.20511103, 0.25974727, 0.22941828, 0.35066628]), 'test_precision': array([0.60869565, 0.875     , 1.        , 1.        , 0.85714286,\n",
      "       0.25      , 0.9375    , 0.        , 0.        , 1.        ]), 'train_precision': array([0.60444444, 0.92361111, 0.92168675, 0.68181818, 0.90769231,\n",
      "       0.21505376, 0.88709677, 0.        , 0.64285714, 0.91156463]), 'test_recall': array([0.875     , 0.73684211, 0.96666667, 0.1       , 0.23076923,\n",
      "       0.15      , 0.78947368, 0.        , 0.        , 0.86956522]), 'train_recall': array([0.72340426, 0.71891892, 0.87931034, 0.08152174, 0.33146067,\n",
      "       0.10869565, 0.89189189, 0.        , 0.04918033, 0.74033149]), 'test_f1': array([0.71794872, 0.8       , 0.98305085, 0.18181818, 0.36363636,\n",
      "       0.1875    , 0.85714286, 0.        , 0.        , 0.93023256]), 'train_f1': array([0.65859564, 0.80851064, 0.9       , 0.14563107, 0.48559671,\n",
      "       0.14440433, 0.88948787, 0.        , 0.09137056, 0.81707317])}\n",
      "SVM\n"
     ]
    },
    {
     "name": "stderr",
     "output_type": "stream",
     "text": [
      "/home/2019a7ps1343h/.local/lib/python3.6/site-packages/sklearn/metrics/_classification.py:1248: UndefinedMetricWarning: Precision is ill-defined and being set to 0.0 due to no predicted samples. Use `zero_division` parameter to control this behavior.\n",
      "  _warn_prf(average, modifier, msg_start, len(result))\n",
      "/home/2019a7ps1343h/.local/lib/python3.6/site-packages/sklearn/metrics/_classification.py:1248: UndefinedMetricWarning: Precision is ill-defined and being set to 0.0 due to no predicted samples. Use `zero_division` parameter to control this behavior.\n",
      "  _warn_prf(average, modifier, msg_start, len(result))\n"
     ]
    },
    {
     "name": "stdout",
     "output_type": "stream",
     "text": [
      "{'fit_time': array([14.75915265, 15.95678186, 15.69574142, 22.41287684, 23.3729465 ,\n",
      "       16.88113403, 14.99271035, 18.03043747, 10.79866815,  8.06667042]), 'score_time': array([0.21311212, 0.22651005, 0.22763658, 0.20496631, 0.23260975,\n",
      "       0.43932104, 0.2704854 , 0.34961939, 0.22672844, 0.32844472]), 'test_precision': array([0.60869565, 0.875     , 1.        , 1.        , 0.85714286,\n",
      "       0.25      , 0.9375    , 0.        , 0.        , 1.        ]), 'train_precision': array([0.60444444, 0.92361111, 0.92168675, 0.68181818, 0.90769231,\n",
      "       0.21505376, 0.88709677, 0.        , 0.64285714, 0.91156463]), 'test_recall': array([0.875     , 0.73684211, 0.96666667, 0.1       , 0.23076923,\n",
      "       0.15      , 0.78947368, 0.        , 0.        , 0.86956522]), 'train_recall': array([0.72340426, 0.71891892, 0.87931034, 0.08152174, 0.33146067,\n",
      "       0.10869565, 0.89189189, 0.        , 0.04918033, 0.74033149]), 'test_f1': array([0.71794872, 0.8       , 0.98305085, 0.18181818, 0.36363636,\n",
      "       0.1875    , 0.85714286, 0.        , 0.        , 0.93023256]), 'train_f1': array([0.65859564, 0.80851064, 0.9       , 0.14563107, 0.48559671,\n",
      "       0.14440433, 0.88948787, 0.        , 0.09137056, 0.81707317])}\n",
      "SVM\n"
     ]
    },
    {
     "name": "stderr",
     "output_type": "stream",
     "text": [
      "/home/2019a7ps1343h/.local/lib/python3.6/site-packages/sklearn/metrics/_classification.py:1248: UndefinedMetricWarning: Precision is ill-defined and being set to 0.0 due to no predicted samples. Use `zero_division` parameter to control this behavior.\n",
      "  _warn_prf(average, modifier, msg_start, len(result))\n",
      "/home/2019a7ps1343h/.local/lib/python3.6/site-packages/sklearn/metrics/_classification.py:1248: UndefinedMetricWarning: Precision is ill-defined and being set to 0.0 due to no predicted samples. Use `zero_division` parameter to control this behavior.\n",
      "  _warn_prf(average, modifier, msg_start, len(result))\n"
     ]
    },
    {
     "name": "stdout",
     "output_type": "stream",
     "text": [
      "{'fit_time': array([15.74024892, 16.1285255 , 14.96549416, 23.52532959, 23.47707367,\n",
      "       17.1071465 , 15.00120974, 18.26855588, 10.56210637,  7.76176071]), 'score_time': array([0.43260169, 0.22402954, 0.22031069, 0.27089214, 0.3606348 ,\n",
      "       0.21791577, 0.20294809, 0.22530603, 0.20444417, 0.23054338]), 'test_precision': array([0.60869565, 0.875     , 1.        , 1.        , 0.85714286,\n",
      "       0.25      , 0.9375    , 0.        , 0.        , 1.        ]), 'train_precision': array([0.60444444, 0.92361111, 0.92168675, 0.68181818, 0.90769231,\n",
      "       0.21505376, 0.88709677, 0.        , 0.64285714, 0.91156463]), 'test_recall': array([0.875     , 0.73684211, 0.96666667, 0.1       , 0.23076923,\n",
      "       0.15      , 0.78947368, 0.        , 0.        , 0.86956522]), 'train_recall': array([0.72340426, 0.71891892, 0.87931034, 0.08152174, 0.33146067,\n",
      "       0.10869565, 0.89189189, 0.        , 0.04918033, 0.74033149]), 'test_f1': array([0.71794872, 0.8       , 0.98305085, 0.18181818, 0.36363636,\n",
      "       0.1875    , 0.85714286, 0.        , 0.        , 0.93023256]), 'train_f1': array([0.65859564, 0.80851064, 0.9       , 0.14563107, 0.48559671,\n",
      "       0.14440433, 0.88948787, 0.        , 0.09137056, 0.81707317])}\n",
      "SVM\n"
     ]
    },
    {
     "name": "stderr",
     "output_type": "stream",
     "text": [
      "/home/2019a7ps1343h/.local/lib/python3.6/site-packages/sklearn/metrics/_classification.py:1248: UndefinedMetricWarning: Precision is ill-defined and being set to 0.0 due to no predicted samples. Use `zero_division` parameter to control this behavior.\n",
      "  _warn_prf(average, modifier, msg_start, len(result))\n",
      "/home/2019a7ps1343h/.local/lib/python3.6/site-packages/sklearn/metrics/_classification.py:1248: UndefinedMetricWarning: Precision is ill-defined and being set to 0.0 due to no predicted samples. Use `zero_division` parameter to control this behavior.\n",
      "  _warn_prf(average, modifier, msg_start, len(result))\n"
     ]
    },
    {
     "name": "stdout",
     "output_type": "stream",
     "text": [
      "{'fit_time': array([15.06396723, 17.14242291, 15.05524325, 22.43148279, 23.45484757,\n",
      "       16.86138415, 15.62020731, 17.52621841, 10.49732566,  7.25851655]), 'score_time': array([0.24790525, 0.26518583, 0.21890616, 0.22617245, 0.22619963,\n",
      "       0.25085592, 0.22179604, 0.22881484, 0.21545815, 0.22167993]), 'test_precision': array([0.60869565, 0.875     , 1.        , 1.        , 0.85714286,\n",
      "       0.25      , 0.9375    , 0.        , 0.        , 1.        ]), 'train_precision': array([0.60444444, 0.92361111, 0.92168675, 0.68181818, 0.90769231,\n",
      "       0.21505376, 0.88709677, 0.        , 0.64285714, 0.91156463]), 'test_recall': array([0.875     , 0.73684211, 0.96666667, 0.1       , 0.23076923,\n",
      "       0.15      , 0.78947368, 0.        , 0.        , 0.86956522]), 'train_recall': array([0.72340426, 0.71891892, 0.87931034, 0.08152174, 0.33146067,\n",
      "       0.10869565, 0.89189189, 0.        , 0.04918033, 0.74033149]), 'test_f1': array([0.71794872, 0.8       , 0.98305085, 0.18181818, 0.36363636,\n",
      "       0.1875    , 0.85714286, 0.        , 0.        , 0.93023256]), 'train_f1': array([0.65859564, 0.80851064, 0.9       , 0.14563107, 0.48559671,\n",
      "       0.14440433, 0.88948787, 0.        , 0.09137056, 0.81707317])}\n",
      "SVM\n"
     ]
    },
    {
     "name": "stderr",
     "output_type": "stream",
     "text": [
      "/home/2019a7ps1343h/.local/lib/python3.6/site-packages/sklearn/metrics/_classification.py:1248: UndefinedMetricWarning: Precision is ill-defined and being set to 0.0 due to no predicted samples. Use `zero_division` parameter to control this behavior.\n",
      "  _warn_prf(average, modifier, msg_start, len(result))\n",
      "/home/2019a7ps1343h/.local/lib/python3.6/site-packages/sklearn/metrics/_classification.py:1248: UndefinedMetricWarning: Precision is ill-defined and being set to 0.0 due to no predicted samples. Use `zero_division` parameter to control this behavior.\n",
      "  _warn_prf(average, modifier, msg_start, len(result))\n"
     ]
    },
    {
     "name": "stdout",
     "output_type": "stream",
     "text": [
      "{'fit_time': array([15.20163274, 16.23890471, 15.47334647, 22.14281082, 23.13283443,\n",
      "       17.01210523, 15.50350904, 18.55098915, 10.77797771,  7.43169689]), 'score_time': array([0.21486306, 0.21845889, 0.26563025, 0.24271059, 0.21776652,\n",
      "       0.22258615, 0.22364044, 0.23015428, 0.22774076, 0.22080302]), 'test_precision': array([0.60869565, 0.875     , 1.        , 1.        , 0.85714286,\n",
      "       0.25      , 0.9375    , 0.        , 0.        , 1.        ]), 'train_precision': array([0.60444444, 0.92361111, 0.92168675, 0.68181818, 0.90769231,\n",
      "       0.21505376, 0.88709677, 0.        , 0.64285714, 0.91156463]), 'test_recall': array([0.875     , 0.73684211, 0.96666667, 0.1       , 0.23076923,\n",
      "       0.15      , 0.78947368, 0.        , 0.        , 0.86956522]), 'train_recall': array([0.72340426, 0.71891892, 0.87931034, 0.08152174, 0.33146067,\n",
      "       0.10869565, 0.89189189, 0.        , 0.04918033, 0.74033149]), 'test_f1': array([0.71794872, 0.8       , 0.98305085, 0.18181818, 0.36363636,\n",
      "       0.1875    , 0.85714286, 0.        , 0.        , 0.93023256]), 'train_f1': array([0.65859564, 0.80851064, 0.9       , 0.14563107, 0.48559671,\n",
      "       0.14440433, 0.88948787, 0.        , 0.09137056, 0.81707317])}\n",
      "SVM\n"
     ]
    },
    {
     "name": "stderr",
     "output_type": "stream",
     "text": [
      "/home/2019a7ps1343h/.local/lib/python3.6/site-packages/sklearn/metrics/_classification.py:1248: UndefinedMetricWarning: Precision is ill-defined and being set to 0.0 due to no predicted samples. Use `zero_division` parameter to control this behavior.\n",
      "  _warn_prf(average, modifier, msg_start, len(result))\n",
      "/home/2019a7ps1343h/.local/lib/python3.6/site-packages/sklearn/metrics/_classification.py:1248: UndefinedMetricWarning: Precision is ill-defined and being set to 0.0 due to no predicted samples. Use `zero_division` parameter to control this behavior.\n",
      "  _warn_prf(average, modifier, msg_start, len(result))\n"
     ]
    },
    {
     "name": "stdout",
     "output_type": "stream",
     "text": [
      "{'fit_time': array([15.70573974, 16.51484251, 14.52806687, 22.21384668, 23.95919728,\n",
      "       17.09966588, 15.24545264, 18.19247651, 11.20997071,  7.0155921 ]), 'score_time': array([0.22618437, 0.2186954 , 0.2612896 , 0.23229647, 0.26132846,\n",
      "       0.22968364, 0.26343918, 0.2840941 , 0.31089854, 0.21414804]), 'test_precision': array([0.60869565, 0.875     , 1.        , 1.        , 0.85714286,\n",
      "       0.25      , 0.9375    , 0.        , 0.        , 1.        ]), 'train_precision': array([0.60444444, 0.92361111, 0.92168675, 0.68181818, 0.90769231,\n",
      "       0.21505376, 0.88709677, 0.        , 0.64285714, 0.91156463]), 'test_recall': array([0.875     , 0.73684211, 0.96666667, 0.1       , 0.23076923,\n",
      "       0.15      , 0.78947368, 0.        , 0.        , 0.86956522]), 'train_recall': array([0.72340426, 0.71891892, 0.87931034, 0.08152174, 0.33146067,\n",
      "       0.10869565, 0.89189189, 0.        , 0.04918033, 0.74033149]), 'test_f1': array([0.71794872, 0.8       , 0.98305085, 0.18181818, 0.36363636,\n",
      "       0.1875    , 0.85714286, 0.        , 0.        , 0.93023256]), 'train_f1': array([0.65859564, 0.80851064, 0.9       , 0.14563107, 0.48559671,\n",
      "       0.14440433, 0.88948787, 0.        , 0.09137056, 0.81707317])}\n",
      "SVM\n"
     ]
    },
    {
     "name": "stderr",
     "output_type": "stream",
     "text": [
      "/home/2019a7ps1343h/.local/lib/python3.6/site-packages/sklearn/metrics/_classification.py:1248: UndefinedMetricWarning: Precision is ill-defined and being set to 0.0 due to no predicted samples. Use `zero_division` parameter to control this behavior.\n",
      "  _warn_prf(average, modifier, msg_start, len(result))\n",
      "/home/2019a7ps1343h/.local/lib/python3.6/site-packages/sklearn/metrics/_classification.py:1248: UndefinedMetricWarning: Precision is ill-defined and being set to 0.0 due to no predicted samples. Use `zero_division` parameter to control this behavior.\n",
      "  _warn_prf(average, modifier, msg_start, len(result))\n"
     ]
    },
    {
     "name": "stdout",
     "output_type": "stream",
     "text": [
      "{'fit_time': array([15.14965487, 16.08964705, 15.952353  , 23.97394753, 23.8177464 ,\n",
      "       16.94434309, 14.99277711, 17.97872496, 10.28278637,  7.20994902]), 'score_time': array([0.24854755, 0.25068259, 0.27459955, 0.20939589, 0.22163367,\n",
      "       0.26903152, 0.20506454, 0.25834942, 0.3224473 , 0.20178676]), 'test_precision': array([0.60869565, 0.875     , 1.        , 1.        , 0.85714286,\n",
      "       0.25      , 0.9375    , 0.        , 0.        , 1.        ]), 'train_precision': array([0.60444444, 0.92361111, 0.92168675, 0.68181818, 0.90769231,\n",
      "       0.21505376, 0.88709677, 0.        , 0.64285714, 0.91156463]), 'test_recall': array([0.875     , 0.73684211, 0.96666667, 0.1       , 0.23076923,\n",
      "       0.15      , 0.78947368, 0.        , 0.        , 0.86956522]), 'train_recall': array([0.72340426, 0.71891892, 0.87931034, 0.08152174, 0.33146067,\n",
      "       0.10869565, 0.89189189, 0.        , 0.04918033, 0.74033149]), 'test_f1': array([0.71794872, 0.8       , 0.98305085, 0.18181818, 0.36363636,\n",
      "       0.1875    , 0.85714286, 0.        , 0.        , 0.93023256]), 'train_f1': array([0.65859564, 0.80851064, 0.9       , 0.14563107, 0.48559671,\n",
      "       0.14440433, 0.88948787, 0.        , 0.09137056, 0.81707317])}\n",
      "SVM\n"
     ]
    },
    {
     "name": "stderr",
     "output_type": "stream",
     "text": [
      "/home/2019a7ps1343h/.local/lib/python3.6/site-packages/sklearn/metrics/_classification.py:1248: UndefinedMetricWarning: Precision is ill-defined and being set to 0.0 due to no predicted samples. Use `zero_division` parameter to control this behavior.\n",
      "  _warn_prf(average, modifier, msg_start, len(result))\n",
      "/home/2019a7ps1343h/.local/lib/python3.6/site-packages/sklearn/metrics/_classification.py:1248: UndefinedMetricWarning: Precision is ill-defined and being set to 0.0 due to no predicted samples. Use `zero_division` parameter to control this behavior.\n",
      "  _warn_prf(average, modifier, msg_start, len(result))\n"
     ]
    },
    {
     "name": "stdout",
     "output_type": "stream",
     "text": [
      "{'fit_time': array([14.47292924, 15.65492153, 14.55460548, 21.95865035, 22.71231723,\n",
      "       16.43066645, 14.64137387, 17.13692546, 10.06979084,  7.44115329]), 'score_time': array([0.23429704, 0.22299123, 0.20267534, 0.21296763, 0.22807527,\n",
      "       0.2261281 , 0.30253744, 0.24223828, 0.33459663, 0.24301291]), 'test_precision': array([0.60869565, 0.875     , 1.        , 1.        , 0.85714286,\n",
      "       0.25      , 0.9375    , 0.        , 0.        , 1.        ]), 'train_precision': array([0.60444444, 0.92361111, 0.92168675, 0.68181818, 0.90769231,\n",
      "       0.21505376, 0.88709677, 0.        , 0.64285714, 0.91156463]), 'test_recall': array([0.875     , 0.73684211, 0.96666667, 0.1       , 0.23076923,\n",
      "       0.15      , 0.78947368, 0.        , 0.        , 0.86956522]), 'train_recall': array([0.72340426, 0.71891892, 0.87931034, 0.08152174, 0.33146067,\n",
      "       0.10869565, 0.89189189, 0.        , 0.04918033, 0.74033149]), 'test_f1': array([0.71794872, 0.8       , 0.98305085, 0.18181818, 0.36363636,\n",
      "       0.1875    , 0.85714286, 0.        , 0.        , 0.93023256]), 'train_f1': array([0.65859564, 0.80851064, 0.9       , 0.14563107, 0.48559671,\n",
      "       0.14440433, 0.88948787, 0.        , 0.09137056, 0.81707317])}\n",
      "SVM\n"
     ]
    },
    {
     "name": "stderr",
     "output_type": "stream",
     "text": [
      "/home/2019a7ps1343h/.local/lib/python3.6/site-packages/sklearn/metrics/_classification.py:1248: UndefinedMetricWarning: Precision is ill-defined and being set to 0.0 due to no predicted samples. Use `zero_division` parameter to control this behavior.\n",
      "  _warn_prf(average, modifier, msg_start, len(result))\n",
      "/home/2019a7ps1343h/.local/lib/python3.6/site-packages/sklearn/metrics/_classification.py:1248: UndefinedMetricWarning: Precision is ill-defined and being set to 0.0 due to no predicted samples. Use `zero_division` parameter to control this behavior.\n",
      "  _warn_prf(average, modifier, msg_start, len(result))\n"
     ]
    },
    {
     "name": "stdout",
     "output_type": "stream",
     "text": [
      "{'fit_time': array([14.79970837, 16.42338109, 14.74794364, 21.99387074, 22.49905324,\n",
      "       16.39615202, 14.79471588, 17.35096979, 10.1748786 ,  6.9943819 ]), 'score_time': array([0.23295188, 0.21090007, 0.25061083, 0.2560966 , 0.32814169,\n",
      "       0.30060291, 0.27379608, 0.21615195, 0.21736503, 0.26690054]), 'test_precision': array([0.60869565, 0.875     , 1.        , 1.        , 0.85714286,\n",
      "       0.25      , 0.9375    , 0.        , 0.        , 1.        ]), 'train_precision': array([0.60444444, 0.92361111, 0.92168675, 0.68181818, 0.90769231,\n",
      "       0.21505376, 0.88709677, 0.        , 0.64285714, 0.91156463]), 'test_recall': array([0.875     , 0.73684211, 0.96666667, 0.1       , 0.23076923,\n",
      "       0.15      , 0.78947368, 0.        , 0.        , 0.86956522]), 'train_recall': array([0.72340426, 0.71891892, 0.87931034, 0.08152174, 0.33146067,\n",
      "       0.10869565, 0.89189189, 0.        , 0.04918033, 0.74033149]), 'test_f1': array([0.71794872, 0.8       , 0.98305085, 0.18181818, 0.36363636,\n",
      "       0.1875    , 0.85714286, 0.        , 0.        , 0.93023256]), 'train_f1': array([0.65859564, 0.80851064, 0.9       , 0.14563107, 0.48559671,\n",
      "       0.14440433, 0.88948787, 0.        , 0.09137056, 0.81707317])}\n",
      "[[0.65283385 0.47183169 0.50213295]\n",
      " [0.65283385 0.47183169 0.50213295]\n",
      " [0.65283385 0.47183169 0.50213295]\n",
      " [0.65283385 0.47183169 0.50213295]\n",
      " [0.65283385 0.47183169 0.50213295]\n",
      " [0.65283385 0.47183169 0.50213295]\n",
      " [0.65283385 0.47183169 0.50213295]\n",
      " [0.65283385 0.47183169 0.50213295]\n",
      " [0.65283385 0.47183169 0.50213295]\n",
      " [0.65283385 0.47183169 0.50213295]\n",
      " [0.65283385 0.47183169 0.50213295]]\n"
     ]
    }
   ],
   "source": [
    "tab_score = np.array([apply_svm_cross_validation(X_train, y_train, kernel_args={'kernel':'rbf', 'gamma':gamma, 'degree':None, 'n_components':200, 'random_state':123456}) for gamma in tab_gamma])\n",
    "print(tab_score)"
   ]
  },
  {
   "cell_type": "code",
   "execution_count": 17,
   "metadata": {},
   "outputs": [
    {
     "data": {
      "text/plain": [
       "Text(0.5, 0, 'Gamma')"
      ]
     },
     "execution_count": 17,
     "metadata": {},
     "output_type": "execute_result"
    },
    {
     "data": {
      "image/png": "[encoded data removed]",
      "text/plain": [
       "<Figure size 432x288 with 1 Axes>"
      ]
     },
     "metadata": {
      "needs_background": "light"
     },
     "output_type": "display_data"
    }
   ],
   "source": [
    "plt.plot(tab_gamma, tab_score[:, 0])\n",
    "plt.plot(tab_gamma, tab_score[:, 1])\n",
    "plt.plot(tab_gamma, tab_score[:, 2])\n",
    "plt.legend([\"test_precision\", \"test_recall\", \"test_f1\"])\n",
    "plt.xlabel(\"Gamma\")"
   ]
  },
  {
   "cell_type": "code",
   "execution_count": 18,
   "metadata": {
    "lines_to_next_cell": 2
   },
   "outputs": [
    {
     "data": {
      "text/plain": [
       "<Figure size 432x288 with 0 Axes>"
      ]
     },
     "metadata": {},
     "output_type": "display_data"
    }
   ],
   "source": [
    "plt.tight_layout(rect=[0, 0.03, 1, 0.95])\n",
    "plt.savefig(\"cross_validation_svm_gamma.pdf\", format=\"pdf\")\n",
    "plt.show()"
   ]
  },
  {
   "cell_type": "code",
   "execution_count": 19,
   "metadata": {},
   "outputs": [
    {
     "name": "stdout",
     "output_type": "stream",
     "text": [
      "[2. 3. 4.]\n"
     ]
    }
   ],
   "source": [
    "tab_degree = np.linspace(2, 4, 3)\n",
    "print(tab_degree)"
   ]
  },
  {
   "cell_type": "code",
   "execution_count": 20,
   "metadata": {},
   "outputs": [
    {
     "name": "stdout",
     "output_type": "stream",
     "text": [
      "SVM\n"
     ]
    },
    {
     "name": "stderr",
     "output_type": "stream",
     "text": [
      "/home/2019a7ps1343h/.local/lib/python3.6/site-packages/sklearn/metrics/_classification.py:1248: UndefinedMetricWarning: Precision is ill-defined and being set to 0.0 due to no predicted samples. Use `zero_division` parameter to control this behavior.\n",
      "  _warn_prf(average, modifier, msg_start, len(result))\n",
      "/home/2019a7ps1343h/.local/lib/python3.6/site-packages/sklearn/metrics/_classification.py:1248: UndefinedMetricWarning: Precision is ill-defined and being set to 0.0 due to no predicted samples. Use `zero_division` parameter to control this behavior.\n",
      "  _warn_prf(average, modifier, msg_start, len(result))\n"
     ]
    },
    {
     "name": "stdout",
     "output_type": "stream",
     "text": [
      "{'fit_time': array([15.17682099, 16.3704865 , 14.7130568 , 19.31897593, 21.24680853,\n",
      "       16.42651916, 14.71478748, 17.11615348, 10.19087195,  7.34623194]), 'score_time': array([0.22647047, 0.2863853 , 0.32012343, 0.26776743, 0.22761679,\n",
      "       0.23222995, 0.22221541, 0.25172472, 0.22199869, 0.25809503]), 'test_precision': array([0.60869565, 0.875     , 1.        , 1.        , 0.85714286,\n",
      "       0.25      , 0.9375    , 0.        , 0.        , 1.        ]), 'train_precision': array([0.60444444, 0.92361111, 0.92168675, 0.68181818, 0.90769231,\n",
      "       0.21505376, 0.88709677, 0.        , 0.64285714, 0.91156463]), 'test_recall': array([0.875     , 0.73684211, 0.96666667, 0.1       , 0.23076923,\n",
      "       0.15      , 0.78947368, 0.        , 0.        , 0.86956522]), 'train_recall': array([0.72340426, 0.71891892, 0.87931034, 0.08152174, 0.33146067,\n",
      "       0.10869565, 0.89189189, 0.        , 0.04918033, 0.74033149]), 'test_f1': array([0.71794872, 0.8       , 0.98305085, 0.18181818, 0.36363636,\n",
      "       0.1875    , 0.85714286, 0.        , 0.        , 0.93023256]), 'train_f1': array([0.65859564, 0.80851064, 0.9       , 0.14563107, 0.48559671,\n",
      "       0.14440433, 0.88948787, 0.        , 0.09137056, 0.81707317])}\n",
      "SVM\n"
     ]
    },
    {
     "name": "stderr",
     "output_type": "stream",
     "text": [
      "/home/2019a7ps1343h/.local/lib/python3.6/site-packages/sklearn/metrics/_classification.py:1248: UndefinedMetricWarning: Precision is ill-defined and being set to 0.0 due to no predicted samples. Use `zero_division` parameter to control this behavior.\n",
      "  _warn_prf(average, modifier, msg_start, len(result))\n",
      "/home/2019a7ps1343h/.local/lib/python3.6/site-packages/sklearn/metrics/_classification.py:1248: UndefinedMetricWarning: Precision is ill-defined and being set to 0.0 due to no predicted samples. Use `zero_division` parameter to control this behavior.\n",
      "  _warn_prf(average, modifier, msg_start, len(result))\n"
     ]
    },
    {
     "name": "stdout",
     "output_type": "stream",
     "text": [
      "{'fit_time': array([15.0822649 , 16.43093109, 14.3153789 , 22.47026134, 22.24775362,\n",
      "       16.35659981, 16.29294872, 18.48105192, 10.58706307,  7.349756  ]), 'score_time': array([0.23357916, 0.22273564, 0.25911021, 0.37507272, 0.36806154,\n",
      "       0.22301865, 0.22116613, 0.33156776, 0.37615156, 0.22513509]), 'test_precision': array([0.60869565, 0.875     , 1.        , 1.        , 0.85714286,\n",
      "       0.25      , 0.9375    , 0.        , 0.        , 1.        ]), 'train_precision': array([0.60444444, 0.92361111, 0.92168675, 0.68181818, 0.90769231,\n",
      "       0.21505376, 0.88709677, 0.        , 0.64285714, 0.91156463]), 'test_recall': array([0.875     , 0.73684211, 0.96666667, 0.1       , 0.23076923,\n",
      "       0.15      , 0.78947368, 0.        , 0.        , 0.86956522]), 'train_recall': array([0.72340426, 0.71891892, 0.87931034, 0.08152174, 0.33146067,\n",
      "       0.10869565, 0.89189189, 0.        , 0.04918033, 0.74033149]), 'test_f1': array([0.71794872, 0.8       , 0.98305085, 0.18181818, 0.36363636,\n",
      "       0.1875    , 0.85714286, 0.        , 0.        , 0.93023256]), 'train_f1': array([0.65859564, 0.80851064, 0.9       , 0.14563107, 0.48559671,\n",
      "       0.14440433, 0.88948787, 0.        , 0.09137056, 0.81707317])}\n",
      "SVM\n"
     ]
    },
    {
     "name": "stderr",
     "output_type": "stream",
     "text": [
      "/home/2019a7ps1343h/.local/lib/python3.6/site-packages/sklearn/metrics/_classification.py:1248: UndefinedMetricWarning: Precision is ill-defined and being set to 0.0 due to no predicted samples. Use `zero_division` parameter to control this behavior.\n",
      "  _warn_prf(average, modifier, msg_start, len(result))\n",
      "/home/2019a7ps1343h/.local/lib/python3.6/site-packages/sklearn/metrics/_classification.py:1248: UndefinedMetricWarning: Precision is ill-defined and being set to 0.0 due to no predicted samples. Use `zero_division` parameter to control this behavior.\n",
      "  _warn_prf(average, modifier, msg_start, len(result))\n"
     ]
    },
    {
     "name": "stdout",
     "output_type": "stream",
     "text": [
      "{'fit_time': array([14.38828897, 16.15020514, 13.57485342, 21.74559307, 23.14372134,\n",
      "       16.39624739, 14.94964838, 17.78863072, 11.02487898,  7.17984033]), 'score_time': array([0.21676922, 0.23168111, 0.20806909, 0.22752786, 0.22149253,\n",
      "       0.26441717, 0.25852203, 0.28774476, 0.2618053 , 0.21680164]), 'test_precision': array([0.60869565, 0.875     , 1.        , 1.        , 0.85714286,\n",
      "       0.25      , 0.9375    , 0.        , 0.        , 1.        ]), 'train_precision': array([0.60444444, 0.92361111, 0.92168675, 0.68181818, 0.90769231,\n",
      "       0.21505376, 0.88709677, 0.        , 0.64285714, 0.91156463]), 'test_recall': array([0.875     , 0.73684211, 0.96666667, 0.1       , 0.23076923,\n",
      "       0.15      , 0.78947368, 0.        , 0.        , 0.86956522]), 'train_recall': array([0.72340426, 0.71891892, 0.87931034, 0.08152174, 0.33146067,\n",
      "       0.10869565, 0.89189189, 0.        , 0.04918033, 0.74033149]), 'test_f1': array([0.71794872, 0.8       , 0.98305085, 0.18181818, 0.36363636,\n",
      "       0.1875    , 0.85714286, 0.        , 0.        , 0.93023256]), 'train_f1': array([0.65859564, 0.80851064, 0.9       , 0.14563107, 0.48559671,\n",
      "       0.14440433, 0.88948787, 0.        , 0.09137056, 0.81707317])}\n",
      "[[0.65283385 0.47183169 0.50213295]\n",
      " [0.65283385 0.47183169 0.50213295]\n",
      " [0.65283385 0.47183169 0.50213295]]\n"
     ]
    }
   ],
   "source": [
    "tab_score = np.array([apply_svm_cross_validation(X_train, y_train, kernel_args={'kernel':'poly', 'gamma':None, 'degree':degree, 'n_components':200, 'random_state':123456}) for degree in tab_degree])\n",
    "print(tab_score)"
   ]
  },
  {
   "cell_type": "code",
   "execution_count": 21,
   "metadata": {},
   "outputs": [
    {
     "data": {
      "text/plain": [
       "Text(0.5, 0, 'Degree')"
      ]
     },
     "execution_count": 21,
     "metadata": {},
     "output_type": "execute_result"
    },
    {
     "data": {
      "image/png": "[encoded data removed]",
      "text/plain": [
       "<Figure size 432x288 with 1 Axes>"
      ]
     },
     "metadata": {
      "needs_background": "light"
     },
     "output_type": "display_data"
    }
   ],
   "source": [
    "plt.plot(tab_degree, tab_score[:, 0])\n",
    "plt.plot(tab_degree, tab_score[:, 1])\n",
    "plt.plot(tab_degree, tab_score[:, 2])\n",
    "plt.legend([\"test_precision\", \"test_recall\", \"test_f1\"])\n",
    "plt.xlabel(\"Degree\")"
   ]
  },
  {
   "cell_type": "code",
   "execution_count": 22,
   "metadata": {
    "lines_to_next_cell": 2
   },
   "outputs": [
    {
     "data": {
      "text/plain": [
       "<Figure size 432x288 with 0 Axes>"
      ]
     },
     "metadata": {},
     "output_type": "display_data"
    }
   ],
   "source": [
    "plt.tight_layout(rect=[0, 0.03, 1, 0.95])\n",
    "plt.savefig(\"cross_validation_svm_degree.pdf\", format=\"pdf\")\n",
    "plt.show()"
   ]
  },
  {
   "cell_type": "code",
   "execution_count": 23,
   "metadata": {},
   "outputs": [
    {
     "name": "stdout",
     "output_type": "stream",
     "text": [
      "['l1', 'l2', 'elasticnet']\n"
     ]
    }
   ],
   "source": [
    "tab_penalty = ['l1', 'l2', 'elasticnet']\n",
    "print(tab_penalty)"
   ]
  },
  {
   "cell_type": "code",
   "execution_count": 24,
   "metadata": {},
   "outputs": [
    {
     "name": "stdout",
     "output_type": "stream",
     "text": [
      "SVM\n",
      "{'fit_time': array([ 9.16336823, 11.89605498, 28.92724562, 24.8468895 , 22.28658271,\n",
      "       24.70690656, 18.92101431, 28.77283597, 13.85208631, 21.83896446]), 'score_time': array([0.2106812 , 0.18366504, 0.2171948 , 0.35189652, 0.2613554 ,\n",
      "       0.20672917, 0.21970248, 0.2629261 , 0.23309612, 0.22505665]), 'test_precision': array([0.91666667, 0.83333333, 0.93333333, 0.875     , 0.33333333,\n",
      "       0.77272727, 0.54166667, 1.        , 0.2       , 0.375     ]), 'train_precision': array([0.87912088, 0.78181818, 0.81052632, 0.81333333, 0.36809816,\n",
      "       0.88108108, 0.62857143, 0.89285714, 0.35772358, 0.1971831 ]), 'test_recall': array([0.6875    , 0.78947368, 0.93333333, 0.35      , 0.26923077,\n",
      "       0.85      , 0.68421053, 0.55555556, 0.0952381 , 0.13043478]), 'train_recall': array([0.42553191, 0.6972973 , 0.88505747, 0.33152174, 0.33707865,\n",
      "       0.88586957, 0.83243243, 0.53763441, 0.24043716, 0.07734807]), 'test_f1': array([0.78571429, 0.81081081, 0.93333333, 0.5       , 0.29787234,\n",
      "       0.80952381, 0.60465116, 0.71428571, 0.12903226, 0.19354839]), 'train_f1': array([0.5734767 , 0.73714286, 0.84615385, 0.47104247, 0.35190616,\n",
      "       0.88346883, 0.71627907, 0.67114094, 0.2875817 , 0.11111111])}\n",
      "SVM\n",
      "{'fit_time': array([10.53673244, 11.46802711, 10.03908396, 17.71512914, 19.43463397,\n",
      "       20.16893268, 15.7512548 , 21.775213  ,  8.60035086,  5.87807155]), 'score_time': array([0.2252636 , 0.26261735, 0.22108626, 0.22309113, 0.22031689,\n",
      "       0.2440424 , 0.20504308, 0.23268366, 0.36839914, 0.21731138]), 'test_precision': array([0.58333333, 0.85714286, 1.        , 1.        , 0.22105263,\n",
      "       0.8       , 0.73913043, 1.        , 0.5       , 1.        ]), 'train_precision': array([0.59388646, 0.90322581, 0.9270073 , 0.93251534, 0.18455971,\n",
      "       0.88421053, 0.7952381 , 0.94011976, 0.68421053, 0.92913386]), 'test_recall': array([0.875     , 0.31578947, 0.6       , 0.75      , 0.80769231,\n",
      "       1.        , 0.89473684, 0.94444444, 0.04761905, 0.69565217]), 'train_recall': array([0.72340426, 0.45405405, 0.72988506, 0.82608696, 0.85955056,\n",
      "       0.91304348, 0.9027027 , 0.84408602, 0.07103825, 0.6519337 ]), 'test_f1': array([0.7       , 0.46153846, 0.75      , 0.85714286, 0.34710744,\n",
      "       0.88888889, 0.80952381, 0.97142857, 0.08695652, 0.82051282]), 'train_f1': array([0.65227818, 0.60431655, 0.81672026, 0.87608069, 0.30387289,\n",
      "       0.89839572, 0.84556962, 0.88951841, 0.12871287, 0.76623377])}\n",
      "SVM\n"
     ]
    },
    {
     "name": "stderr",
     "output_type": "stream",
     "text": [
      "/home/2019a7ps1343h/.local/lib/python3.6/site-packages/sklearn/metrics/_classification.py:1248: UndefinedMetricWarning: Precision is ill-defined and being set to 0.0 due to no predicted samples. Use `zero_division` parameter to control this behavior.\n",
      "  _warn_prf(average, modifier, msg_start, len(result))\n",
      "/home/2019a7ps1343h/.local/lib/python3.6/site-packages/sklearn/metrics/_classification.py:1248: UndefinedMetricWarning: Precision is ill-defined and being set to 0.0 due to no predicted samples. Use `zero_division` parameter to control this behavior.\n",
      "  _warn_prf(average, modifier, msg_start, len(result))\n"
     ]
    },
    {
     "name": "stdout",
     "output_type": "stream",
     "text": [
      "{'fit_time': array([16.0045867 , 17.64057851, 15.71577644, 25.03547287, 25.58824778,\n",
      "       18.17350411, 16.25218916, 19.85762286, 11.16558862,  8.26839614]), 'score_time': array([0.22083402, 0.27672911, 0.22542787, 0.31084418, 0.22611141,\n",
      "       0.2104547 , 0.21731067, 0.34011221, 0.22022128, 0.3884933 ]), 'test_precision': array([0.60869565, 0.875     , 1.        , 1.        , 0.85714286,\n",
      "       0.25      , 0.9375    , 0.        , 0.        , 1.        ]), 'train_precision': array([0.60444444, 0.92361111, 0.92168675, 0.68181818, 0.90769231,\n",
      "       0.21505376, 0.88709677, 0.        , 0.64285714, 0.91156463]), 'test_recall': array([0.875     , 0.73684211, 0.96666667, 0.1       , 0.23076923,\n",
      "       0.15      , 0.78947368, 0.        , 0.        , 0.86956522]), 'train_recall': array([0.72340426, 0.71891892, 0.87931034, 0.08152174, 0.33146067,\n",
      "       0.10869565, 0.89189189, 0.        , 0.04918033, 0.74033149]), 'test_f1': array([0.71794872, 0.8       , 0.98305085, 0.18181818, 0.36363636,\n",
      "       0.1875    , 0.85714286, 0.        , 0.        , 0.93023256]), 'train_f1': array([0.65859564, 0.80851064, 0.9       , 0.14563107, 0.48559671,\n",
      "       0.14440433, 0.88948787, 0.        , 0.09137056, 0.81707317])}\n",
      "[[0.67810606 0.53449767 0.57787721]\n",
      " [0.77006593 0.69309343 0.66930994]\n",
      " [0.65283385 0.47183169 0.50213295]]\n"
     ]
    }
   ],
   "source": [
    "tab_score = np.array([apply_svm_cross_validation(X_train, y_train, {'loss':'hinge', 'penalty':penalty, 'max_iter':1000, 'alpha':1e-9, 'tol':1e-3, 'random_state':123456, 'class_weight':None}) for penalty in tab_penalty])\n",
    "print(tab_score)"
   ]
  },
  {
   "cell_type": "code",
   "execution_count": 25,
   "metadata": {},
   "outputs": [
    {
     "data": {
      "text/plain": [
       "Text(0.5, 0, 'Regularization Penalty')"
      ]
     },
     "execution_count": 25,
     "metadata": {},
     "output_type": "execute_result"
    },
    {
     "data": {
      "image/png": "[encoded data removed]",
      "text/plain": [
       "<Figure size 432x288 with 1 Axes>"
      ]
     },
     "metadata": {
      "needs_background": "light"
     },
     "output_type": "display_data"
    }
   ],
   "source": [
    "plt.plot(tab_penalty, tab_score[:, 0])\n",
    "plt.plot(tab_penalty, tab_score[:, 1])\n",
    "plt.plot(tab_penalty, tab_score[:, 2])\n",
    "plt.legend([\"test_precision\", \"test_recall\", \"test_f1\"])\n",
    "plt.xlabel(\"Regularization Penalty\")"
   ]
  },
  {
   "cell_type": "code",
   "execution_count": 26,
   "metadata": {
    "lines_to_next_cell": 2
   },
   "outputs": [
    {
     "data": {
      "text/plain": [
       "<Figure size 432x288 with 0 Axes>"
      ]
     },
     "metadata": {},
     "output_type": "display_data"
    }
   ],
   "source": [
    "plt.tight_layout(rect=[0, 0.03, 1, 0.95])\n",
    "plt.savefig(\"cross_validation_svm_penalty.pdf\", format=\"pdf\")\n",
    "plt.show()"
   ]
  },
  {
   "cell_type": "code",
   "execution_count": 27,
   "metadata": {},
   "outputs": [],
   "source": [
    "feature_map_nystroem = kernel_approximation.Nystroem(kernel='poly', gamma=None, degree=2, n_components=200, random_state=123456)\n",
    "feature_map_nystroem.fit(X_train)\n",
    "X_train_new = feature_map_nystroem.transform(X_train)\n",
    "X_test_new = feature_map_nystroem.transform(X_test)"
   ]
  },
  {
   "cell_type": "code",
   "execution_count": 28,
   "metadata": {},
   "outputs": [
    {
     "name": "stdout",
     "output_type": "stream",
     "text": [
      "-- Epoch 1\n",
      "Norm: 611434.98, NNZs: 200, Bias: -6873.173385, T: 1491902, Avg. loss: 36.683272\n",
      "Total training time: 1.83 seconds.\n",
      "-- Epoch 2\n",
      "Norm: 499270.70, NNZs: 200, Bias: -10604.367865, T: 2983804, Avg. loss: 20.351496\n",
      "Total training time: 3.46 seconds.\n",
      "-- Epoch 3\n",
      "Norm: 422247.09, NNZs: 200, Bias: -11536.796979, T: 4475706, Avg. loss: 10.730387\n",
      "Total training time: 5.56 seconds.\n",
      "-- Epoch 4\n",
      "Norm: 366052.88, NNZs: 200, Bias: -12616.671616, T: 5967608, Avg. loss: 6.050920\n",
      "Total training time: 7.15 seconds.\n",
      "-- Epoch 5\n",
      "Norm: 323215.92, NNZs: 200, Bias: -13370.153168, T: 7459510, Avg. loss: 3.559299\n",
      "Total training time: 9.04 seconds.\n",
      "-- Epoch 6\n",
      "Norm: 289436.25, NNZs: 200, Bias: -14379.140825, T: 8951412, Avg. loss: 2.211512\n",
      "Total training time: 10.84 seconds.\n",
      "-- Epoch 7\n",
      "Norm: 262122.66, NNZs: 200, Bias: -14646.605027, T: 10443314, Avg. loss: 1.414755\n",
      "Total training time: 12.38 seconds.\n",
      "-- Epoch 8\n",
      "Norm: 239488.99, NNZs: 200, Bias: -14950.020574, T: 11935216, Avg. loss: 1.118370\n",
      "Total training time: 14.60 seconds.\n",
      "-- Epoch 9\n",
      "Norm: 220448.65, NNZs: 200, Bias: -14792.688977, T: 13427118, Avg. loss: 0.935441\n",
      "Total training time: 16.27 seconds.\n",
      "-- Epoch 10\n",
      "Norm: 204185.95, NNZs: 200, Bias: -14781.612916, T: 14919020, Avg. loss: 0.795885\n",
      "Total training time: 18.31 seconds.\n",
      "-- Epoch 11\n",
      "Norm: 190160.24, NNZs: 200, Bias: -14589.602810, T: 16410922, Avg. loss: 0.677679\n",
      "Total training time: 19.61 seconds.\n",
      "-- Epoch 12\n",
      "Norm: 177934.07, NNZs: 200, Bias: -14281.773996, T: 17902824, Avg. loss: 0.602723\n",
      "Total training time: 21.67 seconds.\n",
      "-- Epoch 13\n",
      "Norm: 167174.19, NNZs: 200, Bias: -14077.917976, T: 19394726, Avg. loss: 0.525082\n",
      "Total training time: 23.26 seconds.\n",
      "-- Epoch 14\n",
      "Norm: 157635.84, NNZs: 200, Bias: -13891.178137, T: 20886628, Avg. loss: 0.462477\n",
      "Total training time: 24.82 seconds.\n",
      "-- Epoch 15\n",
      "Norm: 149108.76, NNZs: 200, Bias: -13859.880045, T: 22378530, Avg. loss: 0.423313\n",
      "Total training time: 26.95 seconds.\n",
      "-- Epoch 16\n",
      "Norm: 141456.31, NNZs: 200, Bias: -13723.807226, T: 23870432, Avg. loss: 0.386937\n",
      "Total training time: 28.54 seconds.\n",
      "-- Epoch 17\n",
      "Norm: 134548.39, NNZs: 200, Bias: -13593.177248, T: 25362334, Avg. loss: 0.349712\n",
      "Total training time: 30.60 seconds.\n",
      "-- Epoch 18\n",
      "Norm: 128274.94, NNZs: 200, Bias: -13502.784282, T: 26854236, Avg. loss: 0.325909\n",
      "Total training time: 32.10 seconds.\n",
      "-- Epoch 19\n",
      "Norm: 122551.71, NNZs: 200, Bias: -13474.060263, T: 28346138, Avg. loss: 0.298561\n",
      "Total training time: 34.14 seconds.\n",
      "-- Epoch 20\n",
      "Norm: 117327.72, NNZs: 200, Bias: -13300.095214, T: 29838040, Avg. loss: 0.276700\n",
      "Total training time: 35.64 seconds.\n",
      "-- Epoch 21\n",
      "Norm: 112520.68, NNZs: 200, Bias: -13216.884331, T: 31329942, Avg. loss: 0.256382\n",
      "Total training time: 37.20 seconds.\n",
      "-- Epoch 22\n",
      "Norm: 108107.05, NNZs: 200, Bias: -12978.346774, T: 32821844, Avg. loss: 0.239905\n",
      "Total training time: 39.26 seconds.\n",
      "-- Epoch 23\n",
      "Norm: 104010.86, NNZs: 200, Bias: -12876.217901, T: 34313746, Avg. loss: 0.224639\n",
      "Total training time: 40.69 seconds.\n",
      "-- Epoch 24\n",
      "Norm: 100211.96, NNZs: 200, Bias: -12777.415927, T: 35805648, Avg. loss: 0.208196\n",
      "Total training time: 42.52 seconds.\n",
      "-- Epoch 25\n",
      "Norm: 96693.65, NNZs: 200, Bias: -12563.837796, T: 37297550, Avg. loss: 0.197785\n",
      "Total training time: 44.02 seconds.\n",
      "-- Epoch 26\n",
      "Norm: 93403.67, NNZs: 200, Bias: -12426.168948, T: 38789452, Avg. loss: 0.188570\n",
      "Total training time: 46.05 seconds.\n",
      "-- Epoch 27\n",
      "Norm: 90327.23, NNZs: 200, Bias: -12314.775785, T: 40281354, Avg. loss: 0.177223\n",
      "Total training time: 47.57 seconds.\n",
      "-- Epoch 28\n",
      "Norm: 87460.13, NNZs: 200, Bias: -12123.633474, T: 41773256, Avg. loss: 0.163982\n",
      "Total training time: 49.31 seconds.\n",
      "-- Epoch 29\n",
      "Norm: 84753.17, NNZs: 200, Bias: -12042.035316, T: 43265158, Avg. loss: 0.159164\n",
      "Total training time: 51.10 seconds.\n",
      "-- Epoch 30\n",
      "Norm: 82207.93, NNZs: 200, Bias: -11960.916845, T: 44757060, Avg. loss: 0.149164\n",
      "Total training time: 52.63 seconds.\n",
      "-- Epoch 31\n",
      "Norm: 79818.73, NNZs: 200, Bias: -11823.510693, T: 46248962, Avg. loss: 0.143237\n",
      "Total training time: 54.76 seconds.\n",
      "-- Epoch 32\n",
      "Norm: 77559.51, NNZs: 200, Bias: -11727.432592, T: 47740864, Avg. loss: 0.134849\n",
      "Total training time: 56.20 seconds.\n",
      "-- Epoch 33\n",
      "Norm: 75434.14, NNZs: 200, Bias: -11560.346671, T: 49232766, Avg. loss: 0.128455\n",
      "Total training time: 58.00 seconds.\n",
      "-- Epoch 34\n",
      "Norm: 73416.31, NNZs: 200, Bias: -11452.113685, T: 50724668, Avg. loss: 0.120598\n",
      "Total training time: 59.27 seconds.\n",
      "-- Epoch 35\n",
      "Norm: 71508.14, NNZs: 200, Bias: -11311.699469, T: 52216570, Avg. loss: 0.116403\n",
      "Total training time: 61.29 seconds.\n",
      "-- Epoch 36\n",
      "Norm: 69691.69, NNZs: 200, Bias: -11209.752253, T: 53708472, Avg. loss: 0.109291\n",
      "Total training time: 62.77 seconds.\n",
      "-- Epoch 37\n",
      "Norm: 67972.97, NNZs: 200, Bias: -11059.649584, T: 55200374, Avg. loss: 0.105316\n",
      "Total training time: 64.40 seconds.\n",
      "-- Epoch 38\n",
      "Norm: 66331.94, NNZs: 200, Bias: -10946.055516, T: 56692276, Avg. loss: 0.101759\n",
      "Total training time: 66.23 seconds.\n",
      "-- Epoch 39\n",
      "Norm: 64770.11, NNZs: 200, Bias: -10834.851206, T: 58184178, Avg. loss: 0.092870\n",
      "Total training time: 67.79 seconds.\n",
      "-- Epoch 40\n",
      "Norm: 63282.51, NNZs: 200, Bias: -10710.147275, T: 59676080, Avg. loss: 0.091159\n",
      "Total training time: 69.90 seconds.\n",
      "-- Epoch 41\n",
      "Norm: 61861.64, NNZs: 200, Bias: -10589.023281, T: 61167982, Avg. loss: 0.089010\n",
      "Total training time: 71.48 seconds.\n",
      "-- Epoch 42\n",
      "Norm: 60503.49, NNZs: 200, Bias: -10470.958368, T: 62659884, Avg. loss: 0.084785\n",
      "Total training time: 73.48 seconds.\n",
      "-- Epoch 43\n",
      "Norm: 59196.79, NNZs: 200, Bias: -10398.645060, T: 64151786, Avg. loss: 0.082548\n",
      "Total training time: 74.84 seconds.\n",
      "-- Epoch 44\n",
      "Norm: 57956.40, NNZs: 200, Bias: -10271.576445, T: 65643688, Avg. loss: 0.077024\n",
      "Total training time: 76.91 seconds.\n",
      "-- Epoch 45\n",
      "Norm: 56753.87, NNZs: 200, Bias: -10216.800899, T: 67135590, Avg. loss: 0.076745\n",
      "Total training time: 78.45 seconds.\n",
      "-- Epoch 46\n",
      "Norm: 55607.69, NNZs: 200, Bias: -10121.670305, T: 68627492, Avg. loss: 0.071228\n",
      "Total training time: 80.02 seconds.\n",
      "-- Epoch 47\n",
      "Norm: 54515.21, NNZs: 200, Bias: -9988.440204, T: 70119394, Avg. loss: 0.069684\n",
      "Total training time: 82.07 seconds.\n",
      "-- Epoch 48\n",
      "Norm: 53451.73, NNZs: 200, Bias: -9936.312584, T: 71611296, Avg. loss: 0.066487\n",
      "Total training time: 83.59 seconds.\n",
      "-- Epoch 49\n",
      "Norm: 52439.45, NNZs: 200, Bias: -9821.263838, T: 73103198, Avg. loss: 0.065914\n",
      "Total training time: 85.71 seconds.\n",
      "-- Epoch 50\n",
      "Norm: 51459.14, NNZs: 200, Bias: -9745.957343, T: 74595100, Avg. loss: 0.063194\n",
      "Total training time: 87.24 seconds.\n",
      "-- Epoch 51\n",
      "Norm: 50519.53, NNZs: 200, Bias: -9647.330631, T: 76087002, Avg. loss: 0.059122\n",
      "Total training time: 89.24 seconds.\n",
      "-- Epoch 52\n",
      "Norm: 49616.09, NNZs: 200, Bias: -9538.443213, T: 77578904, Avg. loss: 0.059383\n",
      "Total training time: 90.80 seconds.\n",
      "-- Epoch 53\n",
      "Norm: 48737.02, NNZs: 200, Bias: -9478.829616, T: 79070806, Avg. loss: 0.054911\n",
      "Total training time: 92.27 seconds.\n",
      "-- Epoch 54\n",
      "Norm: 47898.31, NNZs: 200, Bias: -9373.559467, T: 80562708, Avg. loss: 0.052373\n",
      "Total training time: 94.36 seconds.\n",
      "-- Epoch 55\n",
      "Norm: 47083.09, NNZs: 200, Bias: -9293.149693, T: 82054610, Avg. loss: 0.051767\n",
      "Total training time: 95.79 seconds.\n",
      "-- Epoch 56\n",
      "Norm: 46291.46, NNZs: 200, Bias: -9236.781064, T: 83546512, Avg. loss: 0.048736\n",
      "Total training time: 97.99 seconds.\n",
      "-- Epoch 57\n",
      "Norm: 45535.36, NNZs: 200, Bias: -9136.714301, T: 85038414, Avg. loss: 0.047565\n",
      "Total training time: 99.59 seconds.\n",
      "-- Epoch 58\n",
      "Norm: 44792.56, NNZs: 200, Bias: -9092.971584, T: 86530316, Avg. loss: 0.047956\n",
      "Total training time: 101.64 seconds.\n",
      "-- Epoch 59\n",
      "Norm: 44084.78, NNZs: 200, Bias: -8996.476341, T: 88022218, Avg. loss: 0.046440\n",
      "Total training time: 103.13 seconds.\n",
      "-- Epoch 60\n",
      "Norm: 43390.75, NNZs: 200, Bias: -8943.686730, T: 89514120, Avg. loss: 0.045968\n",
      "Total training time: 105.20 seconds.\n",
      "-- Epoch 61\n",
      "Norm: 42716.39, NNZs: 200, Bias: -8901.948510, T: 91006022, Avg. loss: 0.042099\n",
      "Total training time: 106.76 seconds.\n",
      "-- Epoch 62\n",
      "Norm: 42070.85, NNZs: 200, Bias: -8819.726575, T: 92497924, Avg. loss: 0.043057\n",
      "Total training time: 108.30 seconds.\n",
      "-- Epoch 63\n",
      "Norm: 41436.78, NNZs: 200, Bias: -8779.092371, T: 93989826, Avg. loss: 0.040051\n",
      "Total training time: 110.28 seconds.\n",
      "-- Epoch 64\n",
      "Norm: 40837.89, NNZs: 200, Bias: -8659.655360, T: 95481728, Avg. loss: 0.040538\n",
      "Total training time: 111.82 seconds.\n",
      "-- Epoch 65\n"
     ]
    },
    {
     "name": "stdout",
     "output_type": "stream",
     "text": [
      "Norm: 40238.53, NNZs: 200, Bias: -8630.256580, T: 96973630, Avg. loss: 0.038898\n",
      "Total training time: 113.94 seconds.\n",
      "-- Epoch 66\n",
      "Norm: 39666.50, NNZs: 200, Bias: -8552.784828, T: 98465532, Avg. loss: 0.038781\n",
      "Total training time: 115.60 seconds.\n",
      "-- Epoch 67\n",
      "Norm: 39105.08, NNZs: 200, Bias: -8505.065505, T: 99957434, Avg. loss: 0.036739\n",
      "Total training time: 117.47 seconds.\n",
      "-- Epoch 68\n",
      "Norm: 38565.09, NNZs: 200, Bias: -8429.725599, T: 101449336, Avg. loss: 0.037597\n",
      "Total training time: 119.04 seconds.\n",
      "-- Epoch 69\n",
      "Norm: 38032.54, NNZs: 200, Bias: -8392.521706, T: 102941238, Avg. loss: 0.035574\n",
      "Total training time: 121.10 seconds.\n",
      "-- Epoch 70\n",
      "Norm: 37522.22, NNZs: 200, Bias: -8319.230738, T: 104433140, Avg. loss: 0.034479\n",
      "Total training time: 122.70 seconds.\n",
      "-- Epoch 71\n",
      "Norm: 37027.74, NNZs: 200, Bias: -8238.243873, T: 105925042, Avg. loss: 0.033899\n",
      "Total training time: 124.27 seconds.\n",
      "-- Epoch 72\n",
      "Norm: 36542.52, NNZs: 200, Bias: -8175.985190, T: 107416944, Avg. loss: 0.033017\n",
      "Total training time: 126.27 seconds.\n",
      "-- Epoch 73\n",
      "Norm: 36068.63, NNZs: 200, Bias: -8123.329649, T: 108908846, Avg. loss: 0.031670\n",
      "Total training time: 127.76 seconds.\n",
      "-- Epoch 74\n",
      "Norm: 35608.82, NNZs: 200, Bias: -8062.721335, T: 110400748, Avg. loss: 0.032218\n",
      "Total training time: 129.84 seconds.\n",
      "-- Epoch 75\n",
      "Norm: 35151.85, NNZs: 200, Bias: -8045.530386, T: 111892650, Avg. loss: 0.029027\n",
      "Total training time: 131.29 seconds.\n",
      "-- Epoch 76\n",
      "Norm: 34717.00, NNZs: 200, Bias: -7977.719410, T: 113384552, Avg. loss: 0.031037\n",
      "Total training time: 133.21 seconds.\n",
      "-- Epoch 77\n",
      "Norm: 34295.09, NNZs: 200, Bias: -7902.424498, T: 114876454, Avg. loss: 0.029558\n",
      "Total training time: 134.56 seconds.\n",
      "-- Epoch 78\n",
      "Norm: 33876.25, NNZs: 200, Bias: -7861.028578, T: 116368356, Avg. loss: 0.029400\n",
      "Total training time: 136.74 seconds.\n",
      "-- Epoch 79\n",
      "Norm: 33464.59, NNZs: 200, Bias: -7836.463064, T: 117860258, Avg. loss: 0.027850\n",
      "Total training time: 138.31 seconds.\n",
      "-- Epoch 80\n",
      "Norm: 33075.95, NNZs: 200, Bias: -7755.972792, T: 119352160, Avg. loss: 0.027954\n",
      "Total training time: 139.82 seconds.\n",
      "-- Epoch 81\n",
      "Norm: 32683.61, NNZs: 200, Bias: -7732.084351, T: 120844062, Avg. loss: 0.026460\n",
      "Total training time: 141.84 seconds.\n",
      "-- Epoch 82\n",
      "Norm: 32309.41, NNZs: 200, Bias: -7669.045006, T: 122335964, Avg. loss: 0.025993\n",
      "Total training time: 143.41 seconds.\n",
      "-- Epoch 83\n",
      "Norm: 31938.37, NNZs: 200, Bias: -7630.103776, T: 123827866, Avg. loss: 0.025867\n",
      "Total training time: 145.41 seconds.\n",
      "-- Epoch 84\n",
      "Norm: 31576.54, NNZs: 200, Bias: -7591.474268, T: 125319768, Avg. loss: 0.023861\n",
      "Total training time: 146.96 seconds.\n",
      "-- Epoch 85\n",
      "Norm: 31224.30, NNZs: 200, Bias: -7545.756269, T: 126811670, Avg. loss: 0.025204\n",
      "Total training time: 149.09 seconds.\n",
      "-- Epoch 86\n",
      "Norm: 30879.67, NNZs: 200, Bias: -7500.759294, T: 128303572, Avg. loss: 0.025923\n",
      "Total training time: 150.65 seconds.\n",
      "-- Epoch 87\n",
      "Norm: 30542.68, NNZs: 200, Bias: -7456.214753, T: 129795474, Avg. loss: 0.024211\n",
      "Total training time: 152.24 seconds.\n",
      "-- Epoch 88\n",
      "Norm: 30213.31, NNZs: 200, Bias: -7412.212093, T: 131287376, Avg. loss: 0.024141\n",
      "Total training time: 154.00 seconds.\n",
      "-- Epoch 89\n",
      "Norm: 29889.56, NNZs: 200, Bias: -7375.807128, T: 132779278, Avg. loss: 0.023260\n",
      "Total training time: 155.61 seconds.\n",
      "Convergence after 89 epochs took 155.61 seconds\n"
     ]
    },
    {
     "data": {
      "text/plain": [
       "SGDClassifier(alpha=1e-09, max_iter=100, random_state=123456, verbose=1)"
      ]
     },
     "execution_count": 28,
     "metadata": {},
     "output_type": "execute_result"
    }
   ],
   "source": [
    "clf = linear_model.SGDClassifier(loss='hinge', penalty='l2', max_iter=100, alpha=1e-9, tol=1e-3, random_state=123456, class_weight=None, verbose=1)\n",
    "clf.fit(X_train_new, y_train)"
   ]
  },
  {
   "cell_type": "code",
   "execution_count": 29,
   "metadata": {},
   "outputs": [
    {
     "name": "stdout",
     "output_type": "stream",
     "text": [
      "Train\n",
      "accuracy score =  0.9240152503927686\n",
      "precision =  0.9301075268817204\n",
      "recall =  0.8480392156862745\n",
      "fbeta_score =  0.8871794871794871\n",
      "support =  204\n"
     ]
    }
   ],
   "source": [
    "print(\"Train\")\n",
    "y_pred_train = clf.predict(X_train_new)\n",
    "print(\"accuracy score = \", metrics.balanced_accuracy_score(y_train, y_pred_train))\n",
    "precision, recall, fbeta_score, support = metrics.precision_recall_fscore_support(y_train, y_pred_train)\n",
    "print(\"precision = \", precision[1])\n",
    "print(\"recall = \", recall[1])\n",
    "print(\"fbeta_score = \", fbeta_score[1])\n",
    "print(\"support = \", support[1])"
   ]
  },
  {
   "cell_type": "code",
   "execution_count": 30,
   "metadata": {
    "lines_to_next_cell": 2
   },
   "outputs": [
    {
     "name": "stdout",
     "output_type": "stream",
     "text": [
      "Test\n",
      "accuracy score =  0.908532502266618\n",
      "precision =  0.9178082191780822\n",
      "recall =  0.8170731707317073\n",
      "fbeta_score =  0.864516129032258\n",
      "support =  82\n"
     ]
    }
   ],
   "source": [
    "print(\"Test\")\n",
    "y_pred_test = clf.predict(X_test_new)\n",
    "print(\"accuracy score = \", metrics.balanced_accuracy_score(y_test, y_pred_test))\n",
    "precision, recall, fbeta_score, support = metrics.precision_recall_fscore_support(y_test, y_pred_test)\n",
    "print(\"precision = \", precision[1])\n",
    "print(\"recall = \", recall[1])\n",
    "print(\"fbeta_score = \", fbeta_score[1])\n",
    "print(\"support = \", support[1])"
   ]
  }
 ],
 "metadata": {
  "jupytext": {
   "cell_metadata_filter": "-all",
   "encoding": "# -*- coding: utf-8 -*-",
   "formats": "ipynb,py",
   "main_language": "python"
  },
  "kernelspec": {
   "display_name": "Python 3",
   "language": "python",
   "name": "python3"
  },
  "language_info": {
   "codemirror_mode": {
    "name": "ipython",
    "version": 3
   },
   "file_extension": ".py",
   "mimetype": "text/x-python",
   "name": "python",
   "nbconvert_exporter": "python",
   "pygments_lexer": "ipython3",
   "version": "3.8.10"
  }
 },
 "nbformat": 4,
 "nbformat_minor": 4
}
